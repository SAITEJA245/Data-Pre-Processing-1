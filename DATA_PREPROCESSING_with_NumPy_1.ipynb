{
  "nbformat": 4,
  "nbformat_minor": 0,
  "metadata": {
    "kernelspec": {
      "display_name": "Python 3",
      "language": "python",
      "name": "python3"
    },
    "language_info": {
      "codemirror_mode": {
        "name": "ipython",
        "version": 3
      },
      "file_extension": ".py",
      "mimetype": "text/x-python",
      "name": "python",
      "nbconvert_exporter": "python",
      "pygments_lexer": "ipython3",
      "version": "3.8.5"
    },
    "colab": {
      "name": "DATA PREPROCESSING with NumPy 1-checkpoint.ipynb",
      "provenance": [],
      "collapsed_sections": []
    }
  },
  "cells": [
    {
      "cell_type": "code",
      "metadata": {
        "colab": {
          "base_uri": "https://localhost:8080/"
        },
        "id": "pkXiDf5K1xvt",
        "outputId": "e5cd12da-7c3a-4b9a-f65e-02945a44e078"
      },
      "source": [
        "import numpy as np\n",
        "a=np.array([1,2,3])\n",
        "arr_1=np.array([[1,2,3],[4,5,6],[7,8,9]])\n",
        "print('1d array',a)\n",
        "print(arr_1)\n",
        "print()\n",
        "print(np.mean(a))\n",
        "print(np.mean(arr_1))\n",
        "print(np.mean(arr_1,axis=0))  # column wise mean of the array(matrix)\n",
        "print(np.mean(arr_1,axis=1))  # row wise mean of the array(matrix)"
      ],
      "execution_count": 2,
      "outputs": [
        {
          "output_type": "stream",
          "name": "stdout",
          "text": [
            "1d array [1 2 3]\n",
            "[[1 2 3]\n",
            " [4 5 6]\n",
            " [7 8 9]]\n",
            "\n",
            "2.0\n",
            "5.0\n",
            "[4. 5. 6.]\n",
            "[2. 5. 8.]\n"
          ]
        }
      ]
    },
    {
      "cell_type": "code",
      "metadata": {
        "id": "tPDL7Pb61xvx",
        "outputId": "61939c5e-a18f-4625-d402-76908b28263f"
      },
      "source": [
        "type(arr_1)  # the type of array is n dimensional type originated from numpy so numpy.ndarray"
      ],
      "execution_count": null,
      "outputs": [
        {
          "data": {
            "text/plain": [
              "numpy.ndarray"
            ]
          },
          "execution_count": 24,
          "metadata": {},
          "output_type": "execute_result"
        }
      ]
    },
    {
      "cell_type": "code",
      "metadata": {
        "id": "epmkwGdV1xvy",
        "outputId": "46d1062e-90c3-4cae-ae49-9395d01d2474"
      },
      "source": [
        "a.shape  # use shape to know the dimensions of the array (3,) means we have a 1D array of size 3\n",
        "#note : do not use () after shape function"
      ],
      "execution_count": null,
      "outputs": [
        {
          "data": {
            "text/plain": [
              "(3,)"
            ]
          },
          "execution_count": 29,
          "metadata": {},
          "output_type": "execute_result"
        }
      ]
    },
    {
      "cell_type": "code",
      "metadata": {
        "id": "xloovvME1xvz",
        "outputId": "09c286e6-0f12-45dd-efba-95e0bf109dba"
      },
      "source": [
        "a2=np.array([[1,2,3],[5,6,7]])\n",
        "print(a2.shape)  #2,3 means it has 2 1D arrays with 3 elements each\n",
        "# by default the val 2,3 is stored in a tuple so we can index 2,3 as 0,1 \n",
        "print(a2.shape[0])   # no.of rows\n",
        "print(a2.shape[1])   # no.of columns\n",
        "# if you give a nuber in np.array() instead of sequence then you need not add [] and its shape will be empty void () but its type is still ndarray\n",
        "# but as its dimentions are empty you cant perform any operations\n",
        "#so use[] even if you want to pass a single value\n",
        "a0=np.array(4)\n",
        "print(a0,a0.shape)\n",
        "# but if you include [] then it wiil be considered as 1d array\n",
        "ae=np.array([9])\n",
        "print(ae,ae.shape)"
      ],
      "execution_count": null,
      "outputs": [
        {
          "name": "stdout",
          "output_type": "stream",
          "text": [
            "(2, 3)\n",
            "2\n",
            "3\n",
            "4 ()\n",
            "[9] (1,)\n"
          ]
        }
      ]
    },
    {
      "cell_type": "code",
      "metadata": {
        "id": "AQcn7CnA1xvz"
      },
      "source": [
        "'''\n",
        "use type(variable name)\n",
        "to know the type of the variable whether it is a list or tuple or ndarray\n",
        "'''"
      ],
      "execution_count": null,
      "outputs": []
    },
    {
      "cell_type": "code",
      "metadata": {
        "id": "Xe3R4NAE1xv0",
        "outputId": "6e0d36c5-4740-4889-e352-8ff4caa1b5ce"
      },
      "source": [
        "l=[[1,2,3],[7,8,9]]  # list\n",
        "arr=np.array([[1,2,3],[7,8,9]])  # same values array\n",
        "l_full=l[0]+l[1]     # list will concatinate\n",
        "a=arr[0]+arr[1]      # arrays will add elementwise\n",
        "print(l)\n",
        "print(a)\n",
        "print(np.sqrt(arr))   # square root function in mumpy to array elements elementwise "
      ],
      "execution_count": null,
      "outputs": [
        {
          "name": "stdout",
          "output_type": "stream",
          "text": [
            "[[1, 2, 3], [7, 8, 9]]\n",
            "[ 8 10 12]\n",
            "[[1.         1.41421356 1.73205081]\n",
            " [2.64575131 2.82842712 3.        ]]\n"
          ]
        }
      ]
    },
    {
      "cell_type": "code",
      "metadata": {
        "id": "QCD8yp4v1xv1",
        "outputId": "abc2b38d-ac03-490a-857b-33fdf5f6737c"
      },
      "source": [
        "print(arr[1])          # second row \n",
        "print(arr[1,2])  # or arr[1][2] we can also use this cmd   # second row third column\n",
        "print(arr[:,0])  # both rows first col\n"
      ],
      "execution_count": null,
      "outputs": [
        {
          "name": "stdout",
          "output_type": "stream",
          "text": [
            "[7 8 9]\n",
            "9\n",
            "[1 7]\n"
          ]
        }
      ]
    },
    {
      "cell_type": "code",
      "metadata": {
        "id": "lsBiNb0G1xv2",
        "outputId": "8e184eeb-0524-4723-ddc5-008cfcca9232"
      },
      "source": [
        "print(arr)"
      ],
      "execution_count": null,
      "outputs": [
        {
          "name": "stdout",
          "output_type": "stream",
          "text": [
            "[[1 6 3]\n",
            " [7 8 9]]\n"
          ]
        }
      ]
    },
    {
      "cell_type": "code",
      "metadata": {
        "id": "OrYa8cW41xv2",
        "outputId": "267c710e-f699-4952-8b99-fc4f81ecc21b"
      },
      "source": [
        "arr[0,1]=6\n",
        "print(arr)"
      ],
      "execution_count": null,
      "outputs": [
        {
          "name": "stdout",
          "output_type": "stream",
          "text": [
            "[[1 6 3]\n",
            " [7 8 9]]\n"
          ]
        }
      ]
    },
    {
      "cell_type": "code",
      "metadata": {
        "id": "S9aDD8EP1xv3",
        "outputId": "774501fb-1451-458c-cb7e-5f7babecc47b"
      },
      "source": [
        "arr[0]=5 # make all values of row1 =5\n",
        "print(arr)\n",
        "print()\n",
        "arr[:,0]=4 # make all values of col1 =4\n",
        "print(arr,'\\n')\n",
        "# to assign multiple values use a list\n",
        "list=[1,2,3] \n",
        "arr[0]=list  # row1 will be updated with the values of list\n",
        "print(arr)"
      ],
      "execution_count": null,
      "outputs": [
        {
          "name": "stdout",
          "output_type": "stream",
          "text": [
            "[[5 5 5]\n",
            " [4 8 9]]\n",
            "\n",
            "[[4 5 5]\n",
            " [4 8 9]] \n",
            "\n",
            "[[1 2 3]\n",
            " [4 8 9]]\n"
          ]
        }
      ]
    },
    {
      "cell_type": "code",
      "metadata": {
        "id": "jNRq-nTE1xv4",
        "outputId": "97547ca5-b3c7-464e-aef3-56c2c4165360"
      },
      "source": [
        "print(arr+2,'\\n')\n",
        "print(a,'\\n\\n',arr)"
      ],
      "execution_count": null,
      "outputs": [
        {
          "name": "stdout",
          "output_type": "stream",
          "text": [
            "[[ 3  4  5]\n",
            " [ 6 10 11]] \n",
            "\n",
            "[ 8 10 12] \n",
            "\n",
            " [[1 2 3]\n",
            " [4 8 9]]\n"
          ]
        }
      ]
    },
    {
      "cell_type": "code",
      "metadata": {
        "id": "S9bshEAW1xv4",
        "outputId": "f7abca1c-2818-4dd1-e0ad-0a932c685d15"
      },
      "source": [
        "print(a+arr[1],'\\n')\n",
        "print(a*arr) # we can also conduct mathematical operations with 2 diff sizes of ndarrays\n",
        "# the above line multiplies the values of array a to rows of array arr elementwise"
      ],
      "execution_count": null,
      "outputs": [
        {
          "name": "stdout",
          "output_type": "stream",
          "text": [
            "[12 18 21] \n",
            "\n",
            "[[  8  20  36]\n",
            " [ 32  80 108]]\n"
          ]
        }
      ]
    },
    {
      "cell_type": "code",
      "metadata": {
        "id": "J_4TsFsC1xv5",
        "outputId": "5b596f82-a404-4050-a59a-2a2d7be4eef0"
      },
      "source": [
        "'''\n",
        "dtype : data-type, optional\n",
        "    The desired data-type for the array.  If not given, then the type will\n",
        "    be determined as the minimum type required to hold the objects in the\n",
        "    sequence.\n",
        "'''\n",
        "\n",
        "af=np.array([[1,2,3],[2,5,6]],dtype='float16')  # you can also use af=np.array([[1,2,3],[2,5,6]],dtype=np.float16) use np.float16 instead of 'float16'\n",
        "# here data type float 16 means each element is float with 16 bits of memory alocated to each element of the ndarray\n",
        "# you can use float32 or float64 basing the required memory you need\n",
        "af"
      ],
      "execution_count": null,
      "outputs": [
        {
          "data": {
            "text/plain": [
              "array([[1., 2., 3.],\n",
              "       [2., 5., 6.]], dtype=float16)"
            ]
          },
          "execution_count": 96,
          "metadata": {},
          "output_type": "execute_result"
        }
      ]
    },
    {
      "cell_type": "markdown",
      "metadata": {
        "id": "ZxQ7lDd53F8K"
      },
      "source": [
        "![Capture dtype.PNG](data:image/png;base64,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)"
      ]
    },
    {
      "cell_type": "code",
      "metadata": {
        "colab": {
          "base_uri": "https://localhost:8080/"
        },
        "id": "dkY7pPpD1xv5",
        "outputId": "e7b3320f-3623-42d5-8483-d8fd4e2d4850"
      },
      "source": [
        "ac=np.array([[1,2,3],[2,5,6]],dtype=complex) \n",
        "ac"
      ],
      "execution_count": null,
      "outputs": [
        {
          "output_type": "execute_result",
          "data": {
            "text/plain": [
              "array([[1.+0.j, 2.+0.j, 3.+0.j],\n",
              "       [2.+0.j, 5.+0.j, 6.+0.j]])"
            ]
          },
          "metadata": {},
          "execution_count": 7
        }
      ]
    },
    {
      "cell_type": "code",
      "metadata": {
        "colab": {
          "base_uri": "https://localhost:8080/"
        },
        "id": "B5QfOE9h1xv5",
        "outputId": "d952f556-3877-413e-d406-19c867b49f57"
      },
      "source": [
        "af=np.array([[1,2,3],[0,5,6]],dtype=bool) # anything apart from zero is true\n",
        "af"
      ],
      "execution_count": null,
      "outputs": [
        {
          "output_type": "execute_result",
          "data": {
            "text/plain": [
              "array([[ True,  True,  True],\n",
              "       [False,  True,  True]])"
            ]
          },
          "metadata": {},
          "execution_count": 10
        }
      ]
    },
    {
      "cell_type": "code",
      "metadata": {
        "colab": {
          "base_uri": "https://localhost:8080/"
        },
        "id": "yI4cETOh1xv6",
        "outputId": "42fbcddd-3fdb-4a2e-83b2-c27d504fc99c"
      },
      "source": [
        "af=np.array([['hi',2,3],[2,5,6]],dtype=str)  # the elements will be printed within '' indicating that they are strings\n",
        "#dtype='<U1' it means unicode values of lenght upto 1 i.e. 1 charecter string\n",
        "#dtype='<U2' it means unicode values of lenght upto 2 i.e. 2 charecter string\n",
        "af"
      ],
      "execution_count": null,
      "outputs": [
        {
          "output_type": "execute_result",
          "data": {
            "text/plain": [
              "array([['hi', '2', '3'],\n",
              "       ['2', '5', '6']], dtype='<U2')"
            ]
          },
          "metadata": {},
          "execution_count": 13
        }
      ]
    },
    {
      "cell_type": "markdown",
      "metadata": {
        "id": "xO0n7hmj_2a3"
      },
      "source": [
        "**UNIVERSAL FUNCTIONS**\n",
        "\n",
        "A universal function (or ufunc for short) is a function that operates on ndarrays in an element-by-element fashion, supporting array broadcasting, type casting, and several other standard features.\n",
        "\n",
        "for more info on universal function, broadcasting, type casting and their rules visit https://numpy.org/doc/stable/reference/ufuncs.html\n",
        "\n",
        "**Broadcasting**"
      ]
    },
    {
      "cell_type": "markdown",
      "metadata": {
        "id": "CtKjOsNx-wYe"
      },
      "source": [
        "![broadcasting in numpy.png](data:image/png;base64,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)"
      ]
    },
    {
      "cell_type": "code",
      "metadata": {
        "colab": {
          "base_uri": "https://localhost:8080/"
        },
        "id": "-oayKnLL-LHS",
        "outputId": "29d34d59-8c5e-4d56-9ce2-22d5d21d6d8b"
      },
      "source": [
        "# in broadcasting if we want to perform arthematic oprations b/w ndarrays of diff shape then it will strech one ndarray to match the shape of another ndarray inorder to produce the output\n",
        "# we say ndarray sizes are broadcastable\n",
        "a1=np.array([1,2,3])\n",
        "a2=np.array([[1,2,3],[4,5,6]])\n",
        "a3=np.array([[1],[2]])\n",
        "np.add(a1,a2)  #np.add(array1,array2) is a universal function in numpy\n"
      ],
      "execution_count": null,
      "outputs": [
        {
          "output_type": "execute_result",
          "data": {
            "text/plain": [
              "array([[2, 4, 6],\n",
              "       [5, 7, 9]])"
            ]
          },
          "metadata": {},
          "execution_count": 19
        }
      ]
    },
    {
      "cell_type": "markdown",
      "metadata": {
        "id": "l3ykL-MPBpQC"
      },
      "source": [
        "![image.png](data:image/png;base64,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)"
      ]
    },
    {
      "cell_type": "code",
      "metadata": {
        "colab": {
          "base_uri": "https://localhost:8080/"
        },
        "id": "DLhjZdM3BtcI",
        "outputId": "656179aa-1117-4b9d-8c02-89879aa45ee4"
      },
      "source": [
        "np.add(a2,a3)"
      ],
      "execution_count": null,
      "outputs": [
        {
          "output_type": "execute_result",
          "data": {
            "text/plain": [
              "array([[2, 3, 4],\n",
              "       [6, 7, 8]])"
            ]
          },
          "metadata": {},
          "execution_count": 20
        }
      ]
    },
    {
      "cell_type": "markdown",
      "metadata": {
        "id": "3J5SHK37CMWk"
      },
      "source": [
        "![image.png](data:image/png;base64,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)"
      ]
    },
    {
      "cell_type": "markdown",
      "metadata": {
        "id": "8jqXMyL-DIcl"
      },
      "source": [
        "**Type Casting**\n",
        "\n",
        "it takes every element of an array and changes it to a specific datatype"
      ]
    },
    {
      "cell_type": "code",
      "metadata": {
        "colab": {
          "base_uri": "https://localhost:8080/"
        },
        "id": "_gHKQtrOCNtp",
        "outputId": "de338687-cdab-444a-e631-5999a9cd327e"
      },
      "source": [
        "np.add(a2,a3,dtype='float64')\n",
        "#it converts the arrays a2 and a3 in to floats and then add it"
      ],
      "execution_count": null,
      "outputs": [
        {
          "output_type": "execute_result",
          "data": {
            "text/plain": [
              "array([[2., 3., 4.],\n",
              "       [6., 7., 8.]])"
            ]
          },
          "metadata": {},
          "execution_count": 21
        }
      ]
    },
    {
      "cell_type": "markdown",
      "metadata": {
        "id": "E3mS7GeRF8pF"
      },
      "source": [
        "Running over axis"
      ]
    },
    {
      "cell_type": "code",
      "metadata": {
        "colab": {
          "base_uri": "https://localhost:8080/"
        },
        "id": "ZbHhwV2ZF71S",
        "outputId": "ac4b03db-8f8d-4393-dd00-b076a85f4f8a"
      },
      "source": [
        "print(a2,'\\n')\n",
        "np.mean(a2,axis=0)  # axis=0 means columns so we get colummn wise mean of array a2"
      ],
      "execution_count": null,
      "outputs": [
        {
          "output_type": "stream",
          "name": "stdout",
          "text": [
            "[[1 2 3]\n",
            " [4 5 6]] \n",
            "\n"
          ]
        },
        {
          "output_type": "execute_result",
          "data": {
            "text/plain": [
              "array([2.5, 3.5, 4.5])"
            ]
          },
          "metadata": {},
          "execution_count": 23
        }
      ]
    },
    {
      "cell_type": "code",
      "metadata": {
        "colab": {
          "base_uri": "https://localhost:8080/"
        },
        "id": "ysNV31v-Goor",
        "outputId": "655f0383-9170-4d7f-b7f0-e32440433dca"
      },
      "source": [
        "np.mean(a2,axis=1)  # row wise mean"
      ],
      "execution_count": null,
      "outputs": [
        {
          "output_type": "execute_result",
          "data": {
            "text/plain": [
              "array([2., 5.])"
            ]
          },
          "metadata": {},
          "execution_count": 24
        }
      ]
    },
    {
      "cell_type": "markdown",
      "metadata": {
        "id": "dgF8fPfZCyMF"
      },
      "source": [
        "**Slicing**\n",
        "\n",
        "Creating a new array by taking chunks of values out of an exsisting one. It can contaon entire rows and columns of the original array or just parts of them. \n",
        "\n",
        "p.s\n",
        "\n",
        "apply indexing in all casses so \n",
        "\n",
        "first row = row 0\n",
        "firsr col = col 0"
      ]
    },
    {
      "cell_type": "code",
      "metadata": {
        "colab": {
          "base_uri": "https://localhost:8080/"
        },
        "id": "Zd345Hj7C1Hy",
        "outputId": "4419b711-f434-4969-92af-4bc379d81e92"
      },
      "source": [
        "s=np.array([[1,2,3],[4,5,6]])\n",
        "s[:]  # this prints the whole matrix we can also use s[:,:]\n",
        "#  \":\" express an interval of value"
      ],
      "execution_count": null,
      "outputs": [
        {
          "output_type": "execute_result",
          "data": {
            "text/plain": [
              "array([[1, 2, 3],\n",
              "       [4, 5, 6]])"
            ]
          },
          "metadata": {},
          "execution_count": 4
        }
      ]
    },
    {
      "cell_type": "code",
      "metadata": {
        "colab": {
          "base_uri": "https://localhost:8080/"
        },
        "id": "PZ7EFarEELIf",
        "outputId": "b2834f97-8e3b-483e-a366-127afcba69f6"
      },
      "source": [
        "s[0:0]   # here we get any empty array \n",
        "# in pythons veiw it is a 0D array that's why its shape is (0,3) "
      ],
      "execution_count": null,
      "outputs": [
        {
          "output_type": "execute_result",
          "data": {
            "text/plain": [
              "array([], shape=(0, 3), dtype=int64)"
            ]
          },
          "metadata": {},
          "execution_count": 9
        }
      ]
    },
    {
      "cell_type": "code",
      "metadata": {
        "colab": {
          "base_uri": "https://localhost:8080/"
        },
        "id": "RzMGlDDSH1zC",
        "outputId": "84c64e6a-cbf0-47ab-e871-740cb1f92f6c"
      },
      "source": [
        "print(s[:1])     # : in s[a:b] means from row a to row less than b so s[0:2] means [0 to 2) so slice row 0, row 1 do not include row 2\n",
        "print(s[1:])   # in slicing upper bound is not included\n",
        "# s[:1] it means from start to row less than 1 so prints row 0\n",
        "# s[1:] it means from row 1 to end of array so prints row 1"
      ],
      "execution_count": null,
      "outputs": [
        {
          "output_type": "stream",
          "name": "stdout",
          "text": [
            "[[1 2 3]]\n",
            "[[4 5 6]]\n"
          ]
        }
      ]
    },
    {
      "cell_type": "code",
      "metadata": {
        "colab": {
          "base_uri": "https://localhost:8080/"
        },
        "id": "zXKyyf3ZH1-F",
        "outputId": "d8f63d3d-6a43-4f33-cd74-7d24a45cd246"
      },
      "source": [
        "s[2:] # we get an empty array because we are teeling to slice from 3rd row when there are only 2 rows\n",
        "# this is another 0d output\n",
        "'''\n",
        "in slicing s[n:]+s[:n]==s[:] so these s[n:], s[:n] are complimentary slices\n",
        "'''"
      ],
      "execution_count": null,
      "outputs": [
        {
          "output_type": "execute_result",
          "data": {
            "text/plain": [
              "array([], shape=(0, 3), dtype=int64)"
            ]
          },
          "metadata": {},
          "execution_count": 7
        }
      ]
    },
    {
      "cell_type": "code",
      "metadata": {
        "colab": {
          "base_uri": "https://localhost:8080/"
        },
        "id": "QK4m4OZhH2HG",
        "outputId": "8f15c6c2-baf6-4b25-a816-ee2d3df08613"
      },
      "source": [
        "print(s[0])   # indexing = specific indexing\n",
        "print(s[:1])  # slicing = interval indexing\n",
        "# so even the elements of both statements are same but outputs varry in dimensions. the 1st output produced by indexing is 1d slice\n",
        "# but the 2nd output produced is 2d slice because we used slicing and it is interval indexind"
      ],
      "execution_count": null,
      "outputs": [
        {
          "output_type": "stream",
          "name": "stdout",
          "text": [
            "[1 2 3]\n",
            "[[1 2 3]]\n"
          ]
        }
      ]
    },
    {
      "cell_type": "code",
      "metadata": {
        "colab": {
          "base_uri": "https://localhost:8080/"
        },
        "id": "QOQaMVamH2T_",
        "outputId": "1867b3b8-3c72-4023-a581-52b5a93c21b0"
      },
      "source": [
        "print(s[:-1]) # -ve slice index also works -1 means last row so here we print [0:1)"
      ],
      "execution_count": null,
      "outputs": [
        {
          "output_type": "stream",
          "name": "stdout",
          "text": [
            "[[1 2 3]]\n"
          ]
        }
      ]
    },
    {
      "cell_type": "markdown",
      "metadata": {
        "id": "MyC0jhJOMASb"
      },
      "source": [
        "**Column Slicing**\n",
        "\n",
        "while slicing if there are no , in s[] then we are slicing 1d arrays(rows) from ndarray if s[,] there is , then it means we are slicing using both rows and col's "
      ]
    },
    {
      "cell_type": "code",
      "metadata": {
        "colab": {
          "base_uri": "https://localhost:8080/"
        },
        "id": "ckUrXaS4MGf_",
        "outputId": "e4d4c482-46e1-4622-f4fb-074e7dd29b92"
      },
      "source": [
        "s[:,1:] #here we mention both roe and col intervals row : means all rows and col 1: means col[1:end] so 0th col will not be printed"
      ],
      "execution_count": null,
      "outputs": [
        {
          "output_type": "execute_result",
          "data": {
            "text/plain": [
              "array([[2, 3],\n",
              "       [5, 6]])"
            ]
          },
          "metadata": {},
          "execution_count": 10
        }
      ]
    },
    {
      "cell_type": "code",
      "metadata": {
        "colab": {
          "base_uri": "https://localhost:8080/"
        },
        "id": "u0WEkvmTMGri",
        "outputId": "75f61b7f-4b4d-4e3e-be2c-de7a0b6511d6"
      },
      "source": [
        "s[1:,1:]  # we slice row 1 to end and col 1 to end leaving us with 1st row, 1st and 2nd col"
      ],
      "execution_count": null,
      "outputs": [
        {
          "output_type": "execute_result",
          "data": {
            "text/plain": [
              "array([[5, 6]])"
            ]
          },
          "metadata": {},
          "execution_count": 11
        }
      ]
    },
    {
      "cell_type": "markdown",
      "metadata": {
        "id": "91vcRvQNN4fN"
      },
      "source": [
        "Stepwise Slicing"
      ]
    },
    {
      "cell_type": "code",
      "metadata": {
        "colab": {
          "base_uri": "https://localhost:8080/"
        },
        "id": "8OqBMXGNMG0m",
        "outputId": "946d1a90-0432-4251-85f6-a014d151f97b"
      },
      "source": [
        "b=np.array([[1,1,1,2,0],[3,6,6,7,4],[4,5,3,8,0]])\n",
        "b"
      ],
      "execution_count": null,
      "outputs": [
        {
          "output_type": "execute_result",
          "data": {
            "text/plain": [
              "array([[1, 1, 1, 2, 0],\n",
              "       [3, 6, 6, 7, 4],\n",
              "       [4, 5, 3, 8, 0]])"
            ]
          },
          "metadata": {},
          "execution_count": 15
        }
      ]
    },
    {
      "cell_type": "code",
      "metadata": {
        "colab": {
          "base_uri": "https://localhost:8080/"
        },
        "id": "WqkA-nSHOpKf",
        "outputId": "159f2dca-839c-45f4-cc4b-41d9e29ea3f5"
      },
      "source": [
        "'''\n",
        "step wise slicing syntax\n",
        "b[1:10:13, 2:11:3] so here in row and col we give 3 values each which are START:END:STEP\n",
        "in slicing step is by default set to 1 if not given any value so that we dont skip any rows or cols unintensionally\n",
        "'''\n",
        "b[::2,::]  # here start val=origin end val=end \n",
        "# and step val =2 in rows which means after scanign or slicing one row skip one(2-1) row and start with the other "
      ],
      "execution_count": null,
      "outputs": [
        {
          "output_type": "execute_result",
          "data": {
            "text/plain": [
              "array([[1, 1, 1, 2, 0],\n",
              "       [4, 5, 3, 8, 0]])"
            ]
          },
          "metadata": {},
          "execution_count": 21
        }
      ]
    },
    {
      "cell_type": "code",
      "metadata": {
        "colab": {
          "base_uri": "https://localhost:8080/"
        },
        "id": "nYOmb9vAPFSM",
        "outputId": "8247eeb6-fec8-48e2-e2ed-03afc00e875f"
      },
      "source": [
        "b[::,::3]  # here step val=3 for col so it means after slicing 1 col skip 2 col's (3-1) and then slice it there"
      ],
      "execution_count": null,
      "outputs": [
        {
          "output_type": "execute_result",
          "data": {
            "text/plain": [
              "array([[1, 2],\n",
              "       [3, 7],\n",
              "       [4, 8]])"
            ]
          },
          "metadata": {},
          "execution_count": 22
        }
      ]
    },
    {
      "cell_type": "code",
      "metadata": {
        "colab": {
          "base_uri": "https://localhost:8080/"
        },
        "id": "cxb-LAdSRAMs",
        "outputId": "c704a834-eabe-417e-96fc-30965c096827"
      },
      "source": [
        "# every time subtract 1 from step val to know how many rows or cols you have to skip\n",
        "b[::,::4]  # here step val=4 for col so it means after slicing col 0 skip col 1, col 2, col 3 and slice col 4 \n",
        "# as step val is 4 we skip 4-1 col's"
      ],
      "execution_count": null,
      "outputs": [
        {
          "output_type": "execute_result",
          "data": {
            "text/plain": [
              "array([[1, 0],\n",
              "       [3, 4],\n",
              "       [4, 0]])"
            ]
          },
          "metadata": {},
          "execution_count": 23
        }
      ]
    },
    {
      "cell_type": "code",
      "metadata": {
        "colab": {
          "base_uri": "https://localhost:8080/"
        },
        "id": "VDc0z9C8SBtN",
        "outputId": "1d99ace6-a95d-432e-ca0f-54d2374ad76d"
      },
      "source": [
        "b[::2,::2] # it means slice row 0 skip row 1 and slice row 2 and then slice col 0 skip col 1 slice col 2 skip col 3 slice col 4\n",
        "# the step aurgument can be +ve or -ve but can not be zero becoz if step val = 0 then we will not be traversing the array at all and will be struck at our starting position"
      ],
      "execution_count": null,
      "outputs": [
        {
          "output_type": "execute_result",
          "data": {
            "text/plain": [
              "array([[1, 1, 0],\n",
              "       [4, 3, 0]])"
            ]
          },
          "metadata": {},
          "execution_count": 24
        }
      ]
    },
    {
      "cell_type": "code",
      "metadata": {
        "colab": {
          "base_uri": "https://localhost:8080/"
        },
        "id": "jwZ1xh1RTMSK",
        "outputId": "7211d180-10e7-4e80-eaa6-f7f12b712676"
      },
      "source": [
        "# for eg if you give -ve step val to row then we will have to start slicing from the last row  and similarly for last col\n",
        "print(s,'\\n')\n",
        "print(s[::-2,::2]) # as step val of row is -ve start slicing the last row  so slice row 1 and skip (-2+1) one row (skip row 0) \n",
        "# and step val of col is 2 so slice col 0 skip col 1 and slice col 2"
      ],
      "execution_count": null,
      "outputs": [
        {
          "output_type": "stream",
          "name": "stdout",
          "text": [
            "[[1 2 3]\n",
            " [4 5 6]] \n",
            "\n",
            "[[4 6]]\n"
          ]
        }
      ]
    },
    {
      "cell_type": "code",
      "metadata": {
        "colab": {
          "base_uri": "https://localhost:8080/"
        },
        "id": "g-gs6uQiUphV",
        "outputId": "d86d241f-5c75-49ed-a195-1861ccd4e603"
      },
      "source": [
        "b[::-2,::2] # slice last row first and print it then skip one row (now all rows are completed so go to col) slice one col and skip one col and go on till the last col\n",
        "# note that that last row is printed fie=rst as it is sliced first"
      ],
      "execution_count": null,
      "outputs": [
        {
          "output_type": "execute_result",
          "data": {
            "text/plain": [
              "array([[4, 3, 0],\n",
              "       [1, 1, 0]])"
            ]
          },
          "metadata": {},
          "execution_count": 29
        }
      ]
    },
    {
      "cell_type": "code",
      "metadata": {
        "colab": {
          "base_uri": "https://localhost:8080/"
        },
        "id": "nW4Dvfi7Vdzw",
        "outputId": "9771a0ac-371a-4e1f-f4e3-d735815710cf"
      },
      "source": [
        "b[-1::-1,::2]  #start at last row as start is given as -1 we dont have to skip any row as (-1+1=0) \n",
        "#as last row is sliced first it will be printed first"
      ],
      "execution_count": null,
      "outputs": [
        {
          "output_type": "execute_result",
          "data": {
            "text/plain": [
              "array([[4, 3, 0],\n",
              "       [3, 6, 4],\n",
              "       [1, 1, 0]])"
            ]
          },
          "metadata": {},
          "execution_count": 30
        }
      ]
    },
    {
      "cell_type": "markdown",
      "metadata": {
        "id": "O-FJb4nLZqNU"
      },
      "source": [
        "Conditional Slicing\n"
      ]
    },
    {
      "cell_type": "code",
      "metadata": {
        "colab": {
          "base_uri": "https://localhost:8080/"
        },
        "id": "P2Kt2lGQZuy1",
        "outputId": "6c60932a-2d3d-46f0-9eae-d31437211d3f"
      },
      "source": [
        "print(b,'\\n')\n",
        "print(b[:,:]>2)  # first we sliced and took all rows and col's then we gave a condition that all sliced elements should be greater than 2\n",
        "# so it prints true in place of elements which have val > 2 "
      ],
      "execution_count": null,
      "outputs": [
        {
          "output_type": "stream",
          "name": "stdout",
          "text": [
            "[[1 1 1 2 0]\n",
            " [3 6 6 7 4]\n",
            " [4 5 3 8 0]] \n",
            "\n",
            "[[False False False False False]\n",
            " [ True  True  True  True  True]\n",
            " [ True  True  True  True False]]\n"
          ]
        }
      ]
    },
    {
      "cell_type": "code",
      "metadata": {
        "colab": {
          "base_uri": "https://localhost:8080/"
        },
        "id": "DT_4jsVDaWPz",
        "outputId": "332bb9e1-2251-49bd-8d48-6a95fb8eefb6"
      },
      "source": [
        "print(b[:,0])\n",
        "print(b[:,0]>2) # 1>2 is false and #3>2 and 4>3 arev true which is printed in the array output"
      ],
      "execution_count": null,
      "outputs": [
        {
          "output_type": "stream",
          "name": "stdout",
          "text": [
            "[1 3 4]\n",
            "[False  True  True]\n"
          ]
        }
      ]
    },
    {
      "cell_type": "code",
      "metadata": {
        "colab": {
          "base_uri": "https://localhost:8080/"
        },
        "id": "k0WDNDgnbMpT",
        "outputId": "31aba75d-d481-44dc-d130-a9aa6617be6d"
      },
      "source": [
        "# to print the values which satisfy the condition instead of true or false we need to write the  conditional part as index i.e. write the condition inside the []\n",
        "b[b[:,:] >= 2] # write the slicing and the condition inside the [] of same matrix as an index\n",
        "# the output is a 1d array bcoz as numpy doen't know how many elements will satisfy the condition so it flattens the ndarray into 1darray and then applies the condition"
      ],
      "execution_count": null,
      "outputs": [
        {
          "output_type": "execute_result",
          "data": {
            "text/plain": [
              "array([2, 3, 6, 6, 7, 4, 4, 5, 3, 8])"
            ]
          },
          "metadata": {},
          "execution_count": 42
        }
      ]
    },
    {
      "cell_type": "code",
      "metadata": {
        "colab": {
          "base_uri": "https://localhost:8080/"
        },
        "id": "xOAIDgsvdA5e",
        "outputId": "b9eed9d5-bdd2-452a-a67b-f738e0180edf"
      },
      "source": [
        "b[b[:,:] % 2 == 0]  # we can also use all arthmatic operations like modulus\n",
        "# here it prints all the even numbers in the ndarray"
      ],
      "execution_count": null,
      "outputs": [
        {
          "output_type": "execute_result",
          "data": {
            "text/plain": [
              "array([2, 0, 6, 6, 4, 4, 8, 0])"
            ]
          },
          "metadata": {},
          "execution_count": 43
        }
      ]
    },
    {
      "cell_type": "code",
      "metadata": {
        "colab": {
          "base_uri": "https://localhost:8080/"
        },
        "id": "KKOvdTdjdUDL",
        "outputId": "91a54c24-0011-4795-e24b-5924e3ac1b7f"
      },
      "source": [
        "# we can also have multiple conditions at the same time\n",
        "# we write multiple conditions by placing conditions in () and using logic operators like &,| between them\n",
        "# note that we use & here and not(and)\n",
        "b[(b[:,:] % 2 != 0) & (b[:,:]<=3)]  # it prints odd numbers less than or equal to 3 "
      ],
      "execution_count": null,
      "outputs": [
        {
          "output_type": "execute_result",
          "data": {
            "text/plain": [
              "array([1, 1, 1, 3, 3])"
            ]
          },
          "metadata": {},
          "execution_count": 45
        }
      ]
    },
    {
      "cell_type": "markdown",
      "metadata": {
        "id": "EIVVaIWZepAl"
      },
      "source": [
        "Squeeze function\n",
        "\n",
        "the squeeze method removes all the unnecessary dimensions of an array. this method always returns ndarrays\n",
        "\n",
        "a squeezed array will have no shape it is a 0d array"
      ]
    },
    {
      "cell_type": "code",
      "metadata": {
        "colab": {
          "base_uri": "https://localhost:8080/"
        },
        "id": "ya79aUhHer26",
        "outputId": "15b68c35-601e-49c8-fe64-eedf4c68fafe"
      },
      "source": [
        "b"
      ],
      "execution_count": null,
      "outputs": [
        {
          "output_type": "execute_result",
          "data": {
            "text/plain": [
              "array([[1, 1, 1, 2, 0],\n",
              "       [3, 6, 6, 7, 4],\n",
              "       [4, 5, 3, 8, 0]])"
            ]
          },
          "metadata": {},
          "execution_count": 46
        }
      ]
    },
    {
      "cell_type": "code",
      "metadata": {
        "colab": {
          "base_uri": "https://localhost:8080/"
        },
        "id": "bmInEqyKe69v",
        "outputId": "e5b44281-08d4-4eda-9518-b85188f68797"
      },
      "source": [
        "print(b[0,0], type(b[0,0]), b[0,0].shape)          # by indexing (scalar)\n",
        "print(b[0,0:1], type(b[0,0:1]), b[0,0:1].shape)      # by slicing as slicing is interval indexing its values is stores in an 1darray (vector)\n",
        "print(b[0:1,0:1], type(b[0:1,0:1]), b[0:1,0:1].shape)  # here as we are slicing in to both rows and col's the value 1 is stored in a 2d matrix  (matrix)\n",
        "# certain functions or methods can only be implemented or executed with inputs of fixed size so in order to overcome this problem we use squeeze function"
      ],
      "execution_count": null,
      "outputs": [
        {
          "output_type": "stream",
          "name": "stdout",
          "text": [
            "1 <class 'numpy.int64'> ()\n",
            "[1] <class 'numpy.ndarray'> (1,)\n",
            "[[1]] <class 'numpy.ndarray'> (1, 1)\n"
          ]
        }
      ]
    },
    {
      "cell_type": "code",
      "metadata": {
        "colab": {
          "base_uri": "https://localhost:8080/"
        },
        "id": "KqL2F8TRhoTK",
        "outputId": "c9263ab7-28f0-4de4-97f2-aca3904647a1"
      },
      "source": [
        "print(b[0:1,0:1].squeeze())\n",
        "print(type(b[0:1,0:1].squeeze()), b[0:1,0:1].squeeze().shape)  # so the output is a 0d array"
      ],
      "execution_count": null,
      "outputs": [
        {
          "output_type": "stream",
          "name": "stdout",
          "text": [
            "1\n",
            "<class 'numpy.ndarray'> ()\n"
          ]
        }
      ]
    },
    {
      "cell_type": "code",
      "metadata": {
        "colab": {
          "base_uri": "https://localhost:8080/"
        },
        "id": "PrV1I6I_jJwf",
        "outputId": "dbfa1e6d-ad18-410e-8c05-62b6b3a68234"
      },
      "source": [
        "# we can also use this syntax to squeeze an ndarray\n",
        "print(np.squeeze(b[0:1,0:1]))"
      ],
      "execution_count": null,
      "outputs": [
        {
          "output_type": "stream",
          "name": "stdout",
          "text": [
            "1\n"
          ]
        }
      ]
    },
    {
      "cell_type": "code",
      "metadata": {
        "colab": {
          "base_uri": "https://localhost:8080/"
        },
        "id": "JDi_-1aFkH0j",
        "outputId": "681fc8dd-712f-4b5b-9ee2-aa0fdf0c8f31"
      },
      "source": [
        "print(b[0,0].squeeze().shape)\n",
        "print(b[0,0:1].squeeze().shape)\n",
        "print(b[0:1,0:1].squeeze().shape)\n",
        "# see the consistency of squeeze() as all outputs have same shape\n",
        "# in some cases as as the output is 0d it is mentioned as scalar output but remember its type is still a ndarray"
      ],
      "execution_count": null,
      "outputs": [
        {
          "output_type": "stream",
          "name": "stdout",
          "text": [
            "()\n",
            "()\n",
            "()\n"
          ]
        }
      ]
    },
    {
      "cell_type": "markdown",
      "metadata": {
        "id": "iXWbKojclFFT"
      },
      "source": [
        "**Generating random data using NumPy**"
      ]
    },
    {
      "cell_type": "markdown",
      "metadata": {
        "id": "XVrk720tsriu"
      },
      "source": [
        "Generating random data using NumPy array\n",
        "\n",
        "np.empty(), np.zeros(), np.ones(), np.full() "
      ]
    },
    {
      "cell_type": "code",
      "metadata": {
        "colab": {
          "base_uri": "https://localhost:8080/"
        },
        "id": "2GCSWc5MsUef",
        "outputId": "09c1c20d-4723-4e5a-8c96-64086b708a1c"
      },
      "source": [
        "# np.empty() returns an array of given size without initializing entries in it\n",
        "# as we dont initialize vals this is the fastest way to generate an ndarray\n",
        "e=np.empty(shape = (2,3))\n",
        "e # when used this function an array is created and assigned meory from the ram so we might get some garbage values\n",
        "#example of allocating unused memory: [0][0][0][0][0]   (only zeros)\n",
        "#example of allocating used memory: [12][0][0][-8][0]    (garbage values)"
      ],
      "execution_count": null,
      "outputs": [
        {
          "output_type": "execute_result",
          "data": {
            "text/plain": [
              "array([[4.9e-324, 4.9e-323, 1.5e-323],\n",
              "       [4.9e-324, 9.9e-323, 2.0e-323]])"
            ]
          },
          "metadata": {},
          "execution_count": 86
        }
      ]
    },
    {
      "cell_type": "code",
      "metadata": {
        "colab": {
          "base_uri": "https://localhost:8080/"
        },
        "id": "UkjoSPmDut4A",
        "outputId": "9894ec2f-d079-4df3-8b22-5294b4c5e2bf"
      },
      "source": [
        "#np.zeros()\n",
        "z=np.zeros(shape = (2,3))\n",
        "z\n",
        "# we use np.zero in some cases because the output has only zeros i.e. consistent output"
      ],
      "execution_count": null,
      "outputs": [
        {
          "output_type": "execute_result",
          "data": {
            "text/plain": [
              "array([[0., 0., 0.],\n",
              "       [0., 0., 0.]])"
            ]
          },
          "metadata": {},
          "execution_count": 90
        }
      ]
    },
    {
      "cell_type": "code",
      "metadata": {
        "colab": {
          "base_uri": "https://localhost:8080/"
        },
        "id": "sfH-Kc8yvKjD",
        "outputId": "78dbe0d1-52bb-430e-ff1a-ee545459340a"
      },
      "source": [
        "z1=np.zeros(shape = (2,3), dtype='int16')  # we can use any dtype like float double\n",
        "z1"
      ],
      "execution_count": null,
      "outputs": [
        {
          "output_type": "execute_result",
          "data": {
            "text/plain": [
              "array([[0, 0, 0],\n",
              "       [0, 0, 0]], dtype=int16)"
            ]
          },
          "metadata": {},
          "execution_count": 91
        }
      ]
    },
    {
      "cell_type": "code",
      "metadata": {
        "colab": {
          "base_uri": "https://localhost:8080/"
        },
        "id": "E0o8QxHEv9Mx",
        "outputId": "50dab82a-236b-4399-9863-d125dc43483a"
      },
      "source": [
        "o=np.ones(shape = (2,3))\n",
        "o"
      ],
      "execution_count": null,
      "outputs": [
        {
          "output_type": "execute_result",
          "data": {
            "text/plain": [
              "array([[1., 1., 1.],\n",
              "       [1., 1., 1.]])"
            ]
          },
          "metadata": {},
          "execution_count": 94
        }
      ]
    },
    {
      "cell_type": "code",
      "metadata": {
        "colab": {
          "base_uri": "https://localhost:8080/"
        },
        "id": "eq09BvBrwH6G",
        "outputId": "698e40bf-8748-4c2d-fd2b-0ea9778c8db0"
      },
      "source": [
        "#np.full() it genarates an array filled with specified values \n",
        "# it needs a mandatory argument fill_value which takes scalar values\n",
        "f=np.full(shape = (2,3), fill_value=2)\n",
        "f"
      ],
      "execution_count": 21,
      "outputs": [
        {
          "output_type": "execute_result",
          "data": {
            "text/plain": [
              "array([[2, 2, 2],\n",
              "       [2, 2, 2]])"
            ]
          },
          "metadata": {},
          "execution_count": 21
        }
      ]
    },
    {
      "cell_type": "code",
      "metadata": {
        "colab": {
          "base_uri": "https://localhost:8080/"
        },
        "id": "mnbtppC0wotE",
        "outputId": "98e31cec-83fa-4518-d8f7-2b64c31a0fe2"
      },
      "source": [
        "f1=np.full(shape = (2,3), fill_value='ten')\n",
        "f1"
      ],
      "execution_count": null,
      "outputs": [
        {
          "output_type": "execute_result",
          "data": {
            "text/plain": [
              "array([['ten', 'ten', 'ten'],\n",
              "       ['ten', 'ten', 'ten']], dtype='<U3')"
            ]
          },
          "metadata": {},
          "execution_count": 96
        }
      ]
    },
    {
      "cell_type": "markdown",
      "metadata": {
        "id": "bksa4i9Qwxd5"
      },
      "source": [
        "LIKE FUNCTIONS\n",
        "\n",
        "equivalent to np.empty(), np.zeros(), np.ones(), np.full() but here we need not specify a shape or type instead we need to provide another array whoose shape and size it takes\n",
        "\n",
        "np.empty_like(), np.zeros_like(), np.ones_like(), np.full_like()"
      ]
    },
    {
      "cell_type": "code",
      "metadata": {
        "colab": {
          "base_uri": "https://localhost:8080/"
        },
        "id": "EeOEQalPwzb5",
        "outputId": "c409a769-89a1-4d36-c7dd-f3fccef8875f"
      },
      "source": [
        "print(b,'\\n')\n",
        "like=np.empty_like(b)\n",
        "print(like)   # the output varies from that of the b as we are genarating an equivalent array\n",
        "# but even if how many times the valuesz change ots shape and type will always be as of ndarray b"
      ],
      "execution_count": null,
      "outputs": [
        {
          "output_type": "stream",
          "name": "stdout",
          "text": [
            "[[1 1 1 2 0]\n",
            " [3 6 6 7 4]\n",
            " [4 5 3 8 0]] \n",
            "\n",
            "[[1 1 1 0 0]\n",
            " [1 0 0 1 0]\n",
            " [0 1 1 0 0]]\n"
          ]
        }
      ]
    },
    {
      "cell_type": "code",
      "metadata": {
        "colab": {
          "base_uri": "https://localhost:8080/"
        },
        "id": "r661or3_z3V5",
        "outputId": "5b80cd64-040a-4201-e8b9-db80fff20093"
      },
      "source": [
        "# we use all np.zeros_like(), np.ones_like(), np.full_like() them similarly\n",
        "li_z=np.zeros_like(b)\n",
        "li_z"
      ],
      "execution_count": null,
      "outputs": [
        {
          "output_type": "execute_result",
          "data": {
            "text/plain": [
              "array([[0, 0, 0, 0, 0],\n",
              "       [0, 0, 0, 0, 0],\n",
              "       [0, 0, 0, 0, 0]])"
            ]
          },
          "metadata": {},
          "execution_count": 103
        }
      ]
    },
    {
      "cell_type": "code",
      "metadata": {
        "colab": {
          "base_uri": "https://localhost:8080/"
        },
        "id": "4dNWSWKIz3eP",
        "outputId": "aa0402ca-2bc6-4d8b-ddc9-35acf4dc11eb"
      },
      "source": [
        "li_f=np.full_like(b,fill_value=10)  # as always even for np.full_like() we need to give the fill_value but need not mention the shape\n",
        "li_f "
      ],
      "execution_count": null,
      "outputs": [
        {
          "output_type": "execute_result",
          "data": {
            "text/plain": [
              "array([[10, 10, 10, 10, 10],\n",
              "       [10, 10, 10, 10, 10],\n",
              "       [10, 10, 10, 10, 10]])"
            ]
          },
          "metadata": {},
          "execution_count": 105
        }
      ]
    },
    {
      "cell_type": "markdown",
      "metadata": {
        "id": "xSTTbkTL2NFJ"
      },
      "source": [
        "Genarating a sequence of non random values"
      ]
    },
    {
      "cell_type": "code",
      "metadata": {
        "colab": {
          "base_uri": "https://localhost:8080/"
        },
        "id": "dRrkeoHDz3mL",
        "outputId": "2363e794-8c5b-4454-b0b8-f8248a371301"
      },
      "source": [
        "#np.arange()  it genarates an array of consecutive values\n",
        "list(range(5)) #arange is similar to range. it is numpy's version of range. arange= array+range"
      ],
      "execution_count": null,
      "outputs": [
        {
          "output_type": "execute_result",
          "data": {
            "text/plain": [
              "[0, 1, 2, 3, 4]"
            ]
          },
          "metadata": {},
          "execution_count": 106
        }
      ]
    },
    {
      "cell_type": "code",
      "metadata": {
        "colab": {
          "base_uri": "https://localhost:8080/"
        },
        "id": "JlPVWGIRz3tL",
        "outputId": "4857a715-f8f7-4e22-f399-b2235b285926"
      },
      "source": [
        "ra=np.arange(5)\n",
        "ra"
      ],
      "execution_count": null,
      "outputs": [
        {
          "output_type": "execute_result",
          "data": {
            "text/plain": [
              "array([0, 1, 2, 3, 4])"
            ]
          },
          "metadata": {},
          "execution_count": 113
        }
      ]
    },
    {
      "cell_type": "code",
      "metadata": {
        "colab": {
          "base_uri": "https://localhost:8080/"
        },
        "id": "EvTzBsxy4meP",
        "outputId": "03cbb10a-7bdb-4796-e790-f968055cc088"
      },
      "source": [
        "ra1=np.arange(start=5)  # when stop aurgument isn't provided it assumes stop=start and start=0\n",
        "ra1"
      ],
      "execution_count": null,
      "outputs": [
        {
          "output_type": "execute_result",
          "data": {
            "text/plain": [
              "array([0, 1, 2, 3, 4])"
            ]
          },
          "metadata": {},
          "execution_count": 111
        }
      ]
    },
    {
      "cell_type": "code",
      "metadata": {
        "colab": {
          "base_uri": "https://localhost:8080/"
        },
        "id": "EQqn1DZJ4mkD",
        "outputId": "d44e8a41-7569-4b97-ea23-ad20744a0365"
      },
      "source": [
        "# if only stop is given and start is not given then we will get an error\n",
        "# remember that we can give start only but we cannot give stop only(if we specify stop we must specify the start also)\n",
        "ra2=np.arange(start=5, stop=30)\n",
        "ra2"
      ],
      "execution_count": null,
      "outputs": [
        {
          "output_type": "execute_result",
          "data": {
            "text/plain": [
              "array([ 5,  6,  7,  8,  9, 10, 11, 12, 13, 14, 15, 16, 17, 18, 19, 20, 21,\n",
              "       22, 23, 24, 25, 26, 27, 28, 29])"
            ]
          },
          "metadata": {},
          "execution_count": 112
        }
      ]
    },
    {
      "cell_type": "code",
      "metadata": {
        "colab": {
          "base_uri": "https://localhost:8080/"
        },
        "id": "eZVtaEwu5n3x",
        "outputId": "048ec7bf-cb76-4c31-fd90-f8484ef02f94"
      },
      "source": [
        "ra3=np.arange(start=5, stop=30,step=2.2)  # step value can be an integer or a float\n",
        "ra3"
      ],
      "execution_count": null,
      "outputs": [
        {
          "output_type": "execute_result",
          "data": {
            "text/plain": [
              "array([ 5. ,  7.2,  9.4, 11.6, 13.8, 16. , 18.2, 20.4, 22.6, 24.8, 27. ,\n",
              "       29.2])"
            ]
          },
          "metadata": {},
          "execution_count": 114
        }
      ]
    },
    {
      "cell_type": "code",
      "metadata": {
        "colab": {
          "base_uri": "https://localhost:8080/"
        },
        "id": "6DFL3o6E53WU",
        "outputId": "42da3a90-d731-4e63-ff57-42ac6581ccd2"
      },
      "source": [
        "ra3=np.arange(start=5, stop=30, step=2.2, dtype='int32')\n",
        "ra3  #in output 29 is not printed becoz it assumes that we want same no.of values as before 12 elements\n",
        "# this is just an example in general it doesn't make much sense to change float to int for an array which we created with step as float value(2.2)"
      ],
      "execution_count": null,
      "outputs": [
        {
          "output_type": "execute_result",
          "data": {
            "text/plain": [
              "array([ 5,  7,  9, 11, 13, 15, 17, 19, 21, 23, 25, 27], dtype=int32)"
            ]
          },
          "metadata": {},
          "execution_count": 117
        }
      ]
    },
    {
      "cell_type": "code",
      "metadata": {
        "colab": {
          "base_uri": "https://localhost:8080/"
        },
        "id": "u68foqP37UgM",
        "outputId": "51ddc47e-46e2-4e54-e878-9925695a389f"
      },
      "source": [
        "ra3=np.arange(start=5, stop=30, step=2.2, dtype=complex)\n",
        "ra3"
      ],
      "execution_count": null,
      "outputs": [
        {
          "output_type": "execute_result",
          "data": {
            "text/plain": [
              "array([ 5. +0.j,  7.2+0.j,  9.4+0.j, 11.6+0.j, 13.8+0.j, 16. +0.j,\n",
              "       18.2+0.j, 20.4+0.j, 22.6+0.j, 24.8+0.j, 27. +0.j, 29.2+0.j])"
            ]
          },
          "metadata": {},
          "execution_count": 118
        }
      ]
    },
    {
      "cell_type": "markdown",
      "metadata": {
        "id": "h9NTr7V4U_DN"
      },
      "source": [
        "Randon Generators\n",
        "\n",
        "Random bit generator: to use this we need Generator and PCG64 from random module of NumPy \n",
        "\n",
        "the generator function takes a bit generator as an input and creates generator objects (these objects are instances of numpy.random.Generator class)\n",
        "\n",
        "PCG64: it is a bit generator which stands for Permutation Congruential Generator, it contains function pointers that can generate values of upto 64 bits in size.\n",
        "\n",
        "normal() : https://numpy.org/doc/stable/reference/random/generated/numpy.random.Generator.normal.html?highlight=normal#numpy.random.Generator.normal"
      ]
    },
    {
      "cell_type": "code",
      "metadata": {
        "colab": {
          "base_uri": "https://localhost:8080/"
        },
        "id": "a_kCUg5hVBsy",
        "outputId": "c8b93658-08bd-40f3-97ba-2b703242690b"
      },
      "source": [
        "from numpy.random import Generator as gen\n",
        "from numpy.random import PCG64 as pcg\n",
        "array_RG=gen(pcg())\n",
        "array_RG.normal()  # the output is a single numeric value which was distributed from a normal distribution"
      ],
      "execution_count": 1,
      "outputs": [
        {
          "output_type": "execute_result",
          "data": {
            "text/plain": [
              "-0.26185975913111614"
            ]
          },
          "metadata": {},
          "execution_count": 1
        }
      ]
    },
    {
      "cell_type": "code",
      "metadata": {
        "colab": {
          "base_uri": "https://localhost:8080/"
        },
        "id": "TNyEg6yKZGhP",
        "outputId": "4a42dbee-e22e-413b-881e-9360366bc108"
      },
      "source": [
        "array_RG=gen(pcg())\n",
        "array_RG.normal(size=6) # if you give a scalar as input for size it creates a 1d array that contains thoose many elements"
      ],
      "execution_count": null,
      "outputs": [
        {
          "output_type": "execute_result",
          "data": {
            "text/plain": [
              "array([ 0.03237083, -0.38179742,  0.62048277, -0.89829893,  0.9440997 ,\n",
              "        0.56342981])"
            ]
          },
          "metadata": {},
          "execution_count": 5
        }
      ]
    },
    {
      "cell_type": "code",
      "metadata": {
        "colab": {
          "base_uri": "https://localhost:8080/"
        },
        "id": "uP9nYzKxZaiU",
        "outputId": "0be432ec-5631-48c6-a0b4-c98a18c4b251"
      },
      "source": [
        "array_RG=gen(pcg())\n",
        "array_RG.normal(size=(5,4)) # if we give a tuple as input the output will be the same shape as the tuple"
      ],
      "execution_count": null,
      "outputs": [
        {
          "output_type": "execute_result",
          "data": {
            "text/plain": [
              "array([[ 0.23793958, -0.20374808,  0.93285484,  0.99533605],\n",
              "       [ 0.50698485,  0.10903266, -0.81429506,  0.21135258],\n",
              "       [-1.21726652,  0.70860929, -0.89690075,  0.01490379],\n",
              "       [ 0.58359856,  0.91328672,  0.30749116,  2.39250157],\n",
              "       [-0.07990237, -0.05873726,  0.19308511,  0.75782949]])"
            ]
          },
          "metadata": {},
          "execution_count": 7
        }
      ]
    },
    {
      "cell_type": "code",
      "metadata": {
        "colab": {
          "base_uri": "https://localhost:8080/"
        },
        "id": "oWrsAFzuZn1K",
        "outputId": "c05bc2ee-a4b4-4892-acc8-0e7c02899fc0"
      },
      "source": [
        "# every time we call this methos the generatoe randomly selects a seed\n",
        "# seed: it is a set of parameters for the algorithm which generates the random values so every time we run the cell we get different values\n",
        "array_RG=gen(pcg(seed=1010))     # here as we specified the seed for the pcg no matter how many times we run the cell the output remains the same\n",
        "array_RG.normal(size=(5,4)) "
      ],
      "execution_count": null,
      "outputs": [
        {
          "output_type": "execute_result",
          "data": {
            "text/plain": [
              "array([[-1.69870017,  0.53799701, -0.22561399, -1.09020894],\n",
              "       [ 0.55391264, -1.50115445,  0.44545933,  1.3448172 ],\n",
              "       [-1.12364327,  0.21216015, -0.25158529, -1.59867385],\n",
              "       [ 0.18776141, -1.69965905,  0.20448236,  1.67076488],\n",
              "       [ 0.76841731,  0.91441827,  1.69270963, -0.37323771]])"
            ]
          },
          "metadata": {},
          "execution_count": 11
        }
      ]
    },
    {
      "cell_type": "code",
      "metadata": {
        "colab": {
          "base_uri": "https://localhost:8080/"
        },
        "id": "m38_TV67al_D",
        "outputId": "9900e9f7-ad54-4e86-acdd-f1f904d9bdaf"
      },
      "source": [
        "array_RG.normal(size=(5,4)) \n",
        "# if we call the normal method in a new cell and rerun it then will get a diff output because\n",
        "# a seed only lasts for one execution of a method or function before it is reset \n",
        "# and remember you want to use a seed we'll have to reset in order to avoid geting identical results"
      ],
      "execution_count": null,
      "outputs": [
        {
          "output_type": "execute_result",
          "data": {
            "text/plain": [
              "array([[ 1.70448458,  0.4349673 , -2.4241649 , -0.33111237],\n",
              "       [-1.00610518, -0.56169413,  0.14592147, -0.72857183],\n",
              "       [-0.86356096,  0.11872526,  0.47652284, -1.92894668],\n",
              "       [ 0.4337307 ,  0.89057722, -0.79755257,  0.84980922],\n",
              "       [ 1.69946185, -0.02483269,  0.00354098, -0.6728818 ]])"
            ]
          },
          "metadata": {},
          "execution_count": 12
        }
      ]
    },
    {
      "cell_type": "markdown",
      "metadata": {
        "id": "h-svpIxmbcp-"
      },
      "source": [
        "\n",
        "\n",
        "---\n",
        "\n"
      ]
    },
    {
      "cell_type": "code",
      "metadata": {
        "colab": {
          "base_uri": "https://localhost:8080/"
        },
        "id": "OgdkXbW8bezE",
        "outputId": "318c5320-a8fc-47c7-d913-fcf9eecae23b"
      },
      "source": [
        "# numpy.integer: it generates integers and it requires a fixed range of values to choose from\n",
        "# if we only provide a single value it automatically assumes that we only want integers b/w 0 and it\n",
        "arr_in=gen(pcg(seed=365))\n",
        "arr_in.integers(low=10, high=20, size=(3,3))"
      ],
      "execution_count": null,
      "outputs": [
        {
          "output_type": "execute_result",
          "data": {
            "text/plain": [
              "array([[10, 17, 16],\n",
              "       [17, 18, 16],\n",
              "       [16, 12, 10]])"
            ]
          },
          "metadata": {},
          "execution_count": 16
        }
      ]
    },
    {
      "cell_type": "code",
      "metadata": {
        "colab": {
          "base_uri": "https://localhost:8080/"
        },
        "id": "RMwSn9pEcuaZ",
        "outputId": "e4b3a892-826d-4697-d1b5-12c1d2075723"
      },
      "source": [
        "# generating random probabilities\n",
        "arr_rn=gen(pcg(seed=365))\n",
        "arr_rn.random(size=(3,3))\n",
        "# the probabilities in the output are extracted from a continuos uniform distribution\n",
        "# uniform distribution means all outputs are equally likely"
      ],
      "execution_count": null,
      "outputs": [
        {
          "output_type": "execute_result",
          "data": {
            "text/plain": [
              "array([[0.75915734, 0.7662218 , 0.6291028 ],\n",
              "       [0.20336599, 0.66501486, 0.06559111],\n",
              "       [0.71326309, 0.10812106, 0.87969046]])"
            ]
          },
          "metadata": {},
          "execution_count": 17
        }
      ]
    },
    {
      "cell_type": "code",
      "metadata": {
        "colab": {
          "base_uri": "https://localhost:8080/"
        },
        "id": "Nt4oOPOqdt7M",
        "outputId": "4e1d318a-8f67-4946-fdba-e851497d4fd0"
      },
      "source": [
        "# numpy.choice(): this method simulates the idea of making a arbitary choice out of given sequence\n",
        "arr_ch=gen(pcg(seed=365))\n",
        "arr_ch.choice([1,2,3,4,5], size=(3,3)) # here we can also set the probabilities of occurance of each element each entry in input list \n",
        "#If not given, the sample assumes a uniform distribution over all entries in input list "
      ],
      "execution_count": null,
      "outputs": [
        {
          "output_type": "execute_result",
          "data": {
            "text/plain": [
              "array([[1, 4, 4],\n",
              "       [4, 5, 4],\n",
              "       [4, 2, 1]])"
            ]
          },
          "metadata": {},
          "execution_count": 18
        }
      ]
    },
    {
      "cell_type": "code",
      "metadata": {
        "colab": {
          "base_uri": "https://localhost:8080/"
        },
        "id": "TrkXQypUfZW9",
        "outputId": "f9dd51f8-f2f9-48a3-d1fb-8c1428797ee6"
      },
      "source": [
        "arr_chp=gen(pcg(seed=365))\n",
        "arr_chp.choice([1,2,3,4,5], p=[0.2,0.1,0.3,0.1,0.3], size=(3,3))  # sum of given probabilities should be equal to 1"
      ],
      "execution_count": null,
      "outputs": [
        {
          "output_type": "execute_result",
          "data": {
            "text/plain": [
              "array([[5, 5, 4],\n",
              "       [2, 4, 1],\n",
              "       [5, 1, 5]])"
            ]
          },
          "metadata": {},
          "execution_count": 20
        }
      ]
    },
    {
      "cell_type": "code",
      "metadata": {
        "colab": {
          "base_uri": "https://localhost:8080/"
        },
        "id": "26gciJJmDC31",
        "outputId": "eaa51636-6f8b-4498-e479-26c0829e5144"
      },
      "source": [
        "arr_p=gen(pcg(seed=365))\n",
        "arr_p.poisson(size=(4,4))    # poisson distribution"
      ],
      "execution_count": 3,
      "outputs": [
        {
          "output_type": "execute_result",
          "data": {
            "text/plain": [
              "array([[2, 0, 1, 1],\n",
              "       [2, 1, 1, 0],\n",
              "       [1, 1, 1, 2],\n",
              "       [1, 1, 0, 0]])"
            ]
          },
          "metadata": {},
          "execution_count": 3
        }
      ]
    },
    {
      "cell_type": "code",
      "metadata": {
        "colab": {
          "base_uri": "https://localhost:8080/"
        },
        "id": "EPmF-qw8Iles",
        "outputId": "ebdcbe95-6ddc-4541-d16a-5f04b061ebdb"
      },
      "source": [
        "arr_pl=gen(pcg(seed=365))\n",
        "arr_pl.poisson(lam=10, size=(4,4)) # we can also pass lambda val for the poisson distribution"
      ],
      "execution_count": 5,
      "outputs": [
        {
          "output_type": "execute_result",
          "data": {
            "text/plain": [
              "array([[11, 12, 12, 14],\n",
              "       [13,  9, 10, 11],\n",
              "       [11,  8, 11,  8],\n",
              "       [10,  9, 14,  7]])"
            ]
          },
          "metadata": {},
          "execution_count": 5
        }
      ]
    },
    {
      "cell_type": "code",
      "metadata": {
        "colab": {
          "base_uri": "https://localhost:8080/"
        },
        "id": "LULuaYIQI85Y",
        "outputId": "553e4f4e-9ff1-485b-cdf2-48db2332fdb2"
      },
      "source": [
        "# binomial distribution it measures how mant times a certain outcome can appear over a series of trails where there are only two positive outcomes\n",
        "# here we need tom pass two aprameters n= number of trails and p = probability of getting our desired output\n",
        "arr_b=gen(pcg(seed=365))\n",
        "arr_b.binomial(n=100, p=0.4, size=(4,4)) "
      ],
      "execution_count": 6,
      "outputs": [
        {
          "output_type": "execute_result",
          "data": {
            "text/plain": [
              "array([[42, 44, 30, 36],\n",
              "       [45, 36, 41, 38],\n",
              "       [42, 41, 35, 31],\n",
              "       [35, 46, 29, 41]])"
            ]
          },
          "metadata": {},
          "execution_count": 6
        }
      ]
    },
    {
      "cell_type": "code",
      "metadata": {
        "colab": {
          "base_uri": "https://localhost:8080/"
        },
        "id": "wH15CUCdJs_p",
        "outputId": "9aed7ae5-e367-4aad-8215-05130a9c39ed"
      },
      "source": [
        "# logistic distribution\n",
        "arr_l=gen(pcg(seed=365))\n",
        "arr_l.logistic(loc=9, scale=1.2, size=(4,4)) "
      ],
      "execution_count": 7,
      "outputs": [
        {
          "output_type": "execute_result",
          "data": {
            "text/plain": [
              "array([[10.37767822, 10.42451863,  9.63404367,  7.36153427],\n",
              "       [ 9.82286787,  5.81223125, 10.09354231,  6.46790532],\n",
              "       [11.38740256,  8.97147918, 10.85844698,  8.79081317],\n",
              "       [ 5.962079  ,  9.99560681,  8.34539118,  7.97105522]])"
            ]
          },
          "metadata": {},
          "execution_count": 7
        }
      ]
    },
    {
      "cell_type": "markdown",
      "metadata": {
        "id": "ErGUf5bHKBYR"
      },
      "source": [
        "for mare functions and methods check out the documentation https://numpy.org/doc/stable/reference/random/generator.html?highlight=random%20generator#numpy.random.Generator\n",
        "\n",
        "---\n",
        "Applications of random generators\n",
        "\n",
        "when real data is not available we some times use psuedo random data to test how well the program performs"
      ]
    },
    {
      "cell_type": "code",
      "metadata": {
        "id": "Sjs8Mh1uKqAa"
      },
      "source": [
        "# lets create a random data of 5 col's and 1000 elements in each\n",
        "arr_rg=gen(pcg(seed=1010))\n",
        "arr_col1=arr_rg.normal(loc=2, scale=3, size=(1000))\n",
        "arr_col2=arr_rg.normal(loc=7, scale=2, size=(1000))\n",
        "arr_col3=arr_rg.logistic(loc=11, scale=3, size=(1000))\n",
        "arr_col4=arr_rg.exponential(scale=4, size=(1000))\n",
        "arr_col5=arr_rg.geometric(p=0.7, size=(1000))\n"
      ],
      "execution_count": 8,
      "outputs": []
    },
    {
      "cell_type": "code",
      "metadata": {
        "colab": {
          "base_uri": "https://localhost:8080/"
        },
        "id": "GpkkMDyQNg81",
        "outputId": "3837dd55-3212-4b3c-ca37-cf2fd5f24d87"
      },
      "source": [
        "# creating an array by joining all the above col's\n",
        "random_test_data=np.array([arr_col1, arr_col2, arr_col3, arr_col4, arr_col5]).transpose()     # this output will have 5 rows and 1000 col as we gave 5 1d arrays with 1000 elements in each as input so in order to get 1000 rows and 5 col we apply transpose() function\n",
        "random_test_data"
      ],
      "execution_count": 14,
      "outputs": [
        {
          "output_type": "execute_result",
          "data": {
            "text/plain": [
              "array([[-3.09610052,  7.69491957, 22.19475371,  1.13880692,  2.        ],\n",
              "       [ 3.61399102,  6.21604378, 12.08652176, 13.63759344,  1.        ],\n",
              "       [ 1.32315803,  8.43972048,  5.20350121,  0.63961802,  1.        ],\n",
              "       ...,\n",
              "       [ 0.3936202 ,  7.69035379, 11.41143628,  5.43256068,  1.        ],\n",
              "       [ 4.80049021,  5.27249623, 14.97956836,  1.74701303,  1.        ],\n",
              "       [12.50526375,  7.7520178 , 10.53729545,  1.87941141,  2.        ]])"
            ]
          },
          "metadata": {},
          "execution_count": 14
        }
      ]
    },
    {
      "cell_type": "code",
      "metadata": {
        "colab": {
          "base_uri": "https://localhost:8080/"
        },
        "id": "DfgEh7_bO0Ng",
        "outputId": "15946bf4-3ac7-43fa-e3a5-9c6c0089a838"
      },
      "source": [
        "random_test_data.shape"
      ],
      "execution_count": 15,
      "outputs": [
        {
          "output_type": "execute_result",
          "data": {
            "text/plain": [
              "(1000, 5)"
            ]
          },
          "metadata": {},
          "execution_count": 15
        }
      ]
    },
    {
      "cell_type": "code",
      "metadata": {
        "id": "6SjYvf0FO1DH"
      },
      "source": [
        "# exporting the above array data into a CSV file\n",
        "np.savetxt('Random-test-data-from-NumPy.csv', random_test_data, fmt='%s', delimiter=',')  # this will save a .csv file in our current directory where the notebook is running"
      ],
      "execution_count": 16,
      "outputs": []
    },
    {
      "cell_type": "code",
      "metadata": {
        "colab": {
          "base_uri": "https://localhost:8080/"
        },
        "id": "l0xn00vGP5tn",
        "outputId": "c3d0f738-2fcf-4ca5-967f-88d7a142d336"
      },
      "source": [
        "# we can also import a newly created csv file into python and dispaly its contents\n",
        "np.genfromtxt('Random-test-data-from-NumPy.csv', delimiter=',')"
      ],
      "execution_count": 17,
      "outputs": [
        {
          "output_type": "execute_result",
          "data": {
            "text/plain": [
              "array([[-3.09610052,  7.69491957, 22.19475371,  1.13880692,  2.        ],\n",
              "       [ 3.61399102,  6.21604378, 12.08652176, 13.63759344,  1.        ],\n",
              "       [ 1.32315803,  8.43972048,  5.20350121,  0.63961802,  1.        ],\n",
              "       ...,\n",
              "       [ 0.3936202 ,  7.69035379, 11.41143628,  5.43256068,  1.        ],\n",
              "       [ 4.80049021,  5.27249623, 14.97956836,  1.74701303,  1.        ],\n",
              "       [12.50526375,  7.7520178 , 10.53729545,  1.87941141,  2.        ]])"
            ]
          },
          "metadata": {},
          "execution_count": 17
        }
      ]
    },
    {
      "cell_type": "code",
      "metadata": {
        "colab": {
          "base_uri": "https://localhost:8080/"
        },
        "id": "CfJeuIR7Su_g",
        "outputId": "f53e25b8-8009-4530-c129-a18e0ac5dfff"
      },
      "source": [
        "q=gen(pcg(seed=365))       # generating a random dataset of size (500,3)\n",
        "\n",
        "col1=q.normal(loc=3, scale=2, size=(500))\n",
        "col2=q.exponential(scale=5, size=(500))\n",
        "col3=q.logistic(loc=10, scale=4, size=(500))\n",
        "ran=np.array([col1, col2, col3]).transpose()\n",
        "print(np.amax(ran))    # amax function gives the max val in a array see https://numpy.org/doc/stable/reference/generated/numpy.amax.html for more info\n",
        "print(np.amax(ran, axis=0))   # axis=0 col wise max and if axis=1 then row wise max"
      ],
      "execution_count": 33,
      "outputs": [
        {
          "output_type": "stream",
          "name": "stdout",
          "text": [
            "35.04153699695336\n",
            "[ 9.54292661 35.041537   32.57489808]\n"
          ]
        }
      ]
    },
    {
      "cell_type": "markdown",
      "metadata": {
        "id": "7n7Dy8grqyHN"
      },
      "source": [
        "IMPORTING TEXT FILES INTO PYTHON\n",
        "\n",
        "here we use np.loadtxt(): it loads the values (load emplies the data is ready to be directly imoported and used)\n",
        "\n",
        "and np.genfromtxt(): generate from txt here generate indicates that the function create the dataset from the text file, generating requires constructing the text file as we go through the text file this allows us to import only certain rows or cols\n",
        "\n",
        "therefore loadtxt is faster but genfromtxt is more flexible\n",
        "\n",
        "bothn of them are good while reading .csv files"
      ]
    },
    {
      "cell_type": "code",
      "metadata": {
        "colab": {
          "base_uri": "https://localhost:8080/"
        },
        "id": "Biyiq2BrrHEp",
        "outputId": "bee55565-1f44-43e0-fd53-1e3154ffd5df"
      },
      "source": [
        "import numpy as np\n",
        "lend_com_1=np.loadtxt('Lending-Comp-Num-Data.csv',delimiter=',')   # this file should be present in the  same directory \n",
        "#if you want import from another directory then you need to mention the path but instead of using / use \\ or // in path direction\n",
        "'''\n",
        "delimiters are pre-defined symbols (eg \",\" or\";\")which are used to define the distinct feilds in the text file like cells in a row, rows in a table\n",
        "to know the delimiter of a dataset open it in notepad instead of opening it in excell \n",
        "when the file is opened in notepad (txt format) cloumn data in rows is separated by , or ; which is known as delimiter\n",
        "so if the the file in notepad has , to separate column then its delimiter=','\n",
        "whatever symbol is separating the columns of data in the notepad file it is known as delimiter of that file '''\n",
        "lend_com_1"
      ],
      "execution_count": 4,
      "outputs": [
        {
          "output_type": "execute_result",
          "data": {
            "text/plain": [
              "array([[ 2000.,    40.,   365.,  3121.,  4241., 13621.],\n",
              "       [ 2000.,    40.,   365.,  3061.,  4171., 15041.],\n",
              "       [ 1000.,    40.,   365.,  2160.,  3280., 15340.],\n",
              "       ...,\n",
              "       [ 2000.,    40.,   365.,  4201.,  5001., 16600.],\n",
              "       [ 1000.,    40.,   365.,  2080.,  3320., 15600.],\n",
              "       [ 2000.,    40.,   365.,  4601.,  4601., 16600.]])"
            ]
          },
          "metadata": {},
          "execution_count": 4
        }
      ]
    },
    {
      "cell_type": "code",
      "metadata": {
        "colab": {
          "base_uri": "https://localhost:8080/"
        },
        "id": "RYv2W2dbvU9s",
        "outputId": "50c17aad-528e-43e4-b29b-2f0f0591086f"
      },
      "source": [
        "#np.genfromtxt()\n",
        "lend_com_2=np.genfromtxt('Lending-Comp-Num-Data.csv',delimiter=',')\n",
        "lend_com_2"
      ],
      "execution_count": 5,
      "outputs": [
        {
          "output_type": "execute_result",
          "data": {
            "text/plain": [
              "array([[ 2000.,    40.,   365.,  3121.,  4241., 13621.],\n",
              "       [ 2000.,    40.,   365.,  3061.,  4171., 15041.],\n",
              "       [ 1000.,    40.,   365.,  2160.,  3280., 15340.],\n",
              "       ...,\n",
              "       [ 2000.,    40.,   365.,  4201.,  5001., 16600.],\n",
              "       [ 1000.,    40.,   365.,  2080.,  3320., 15600.],\n",
              "       [ 2000.,    40.,   365.,  4601.,  4601., 16600.]])"
            ]
          },
          "metadata": {},
          "execution_count": 5
        }
      ]
    },
    {
      "cell_type": "code",
      "metadata": {
        "colab": {
          "base_uri": "https://localhost:8080/"
        },
        "id": "boA4SPsivhjg",
        "outputId": "82c84f40-564e-4059-8003-99704fb76a87"
      },
      "source": [
        "np.array_equal(lend_com_1, lend_com_2)  # using np.array_equal to check if both of them are same\n",
        "''' loadtxt is faster but genfromtxt is more flexible but loadtxt function breaks when we feed it incomplete or ill formarted data \n",
        "but genfromtxt can handel missing values but slightly slower '''"
      ],
      "execution_count": 6,
      "outputs": [
        {
          "output_type": "execute_result",
          "data": {
            "text/plain": [
              "True"
            ]
          },
          "metadata": {},
          "execution_count": 6
        }
      ]
    },
    {
      "cell_type": "code",
      "metadata": {
        "colab": {
          "base_uri": "https://localhost:8080/"
        },
        "id": "jKOSZr-IwMMk",
        "outputId": "115163f4-a18d-43b5-8f74-352703fa449c"
      },
      "source": [
        "# lets import in complete dataset\n",
        "lend_com_incompl1=np.genfromtxt('LendingComDataNAN.csv',delimiter=';')   # load text method will give us error if we use it here to know a delimiter of a particular file see for its specification in notepad++\n",
        "lend_com_incompl1\n",
        "# for eg nan=not a number string is given in the data set thats why loadtxt failed"
      ],
      "execution_count": 12,
      "outputs": [
        {
          "output_type": "execute_result",
          "data": {
            "text/plain": [
              "array([[ 2000.,    40.,   365.,  3121.,  4241., 13621.],\n",
              "       [ 2000.,    40.,   365.,  3061.,  4171., 15041.],\n",
              "       [ 1000.,    40.,   365.,  2160.,  3280., 15340.],\n",
              "       ...,\n",
              "       [   nan,    40.,   365.,  4201.,  5001., 16600.],\n",
              "       [ 1000.,    40.,   365.,  2080.,  3320., 15600.],\n",
              "       [ 2000.,    40.,   365.,  4601.,  4601., 16600.]])"
            ]
          },
          "metadata": {},
          "execution_count": 12
        }
      ]
    },
    {
      "cell_type": "code",
      "metadata": {
        "colab": {
          "base_uri": "https://localhost:8080/"
        },
        "id": "7feX0QkcyEOb",
        "outputId": "6addd607-9b6f-4d11-ffd8-5ea4d10f9a32"
      },
      "source": [
        "lend_com_incompl2=np.loadtxt('LendingComDataNAN.csv',delimiter=';',dtype='str')   # here inorder to i,port the data we are using dtype='str'\n",
        "# which tells python to import strings not numbers so we don't get a error\n",
        "lend_com_incompl2 \n",
        "# but this method is useless as we can't apply any mathematical options on string so in that case use genfromtxt() as we did in above cell"
      ],
      "execution_count": 14,
      "outputs": [
        {
          "output_type": "execute_result",
          "data": {
            "text/plain": [
              "array([['2000', '40', '365', '3121', '4241', '13621'],\n",
              "       ['2000', '40', '365', '3061', '4171', '15041'],\n",
              "       ['1000', '40', '365', '2160', '3280', '15340'],\n",
              "       ...,\n",
              "       ['', '40', '365', '4201', '5001', '16600'],\n",
              "       ['1000', '40', '365', '2080', '3320', '15600'],\n",
              "       ['2000', '40', '365', '4601', '4601', '16600']], dtype='<U5')"
            ]
          },
          "metadata": {},
          "execution_count": 14
        }
      ]
    },
    {
      "cell_type": "markdown",
      "metadata": {
        "id": "vSZ0X7YrzYJW"
      },
      "source": [
        "Simple data cleaning techniques"
      ]
    },
    {
      "cell_type": "code",
      "metadata": {
        "colab": {
          "base_uri": "https://localhost:8080/"
        },
        "id": "eWq5pT-pzSzG",
        "outputId": "475b38a5-3c81-4113-a4b8-e72519bb0254"
      },
      "source": [
        "# partial cleaning while importing\n",
        "lend_com_incompl1=np.genfromtxt('LendingComDataNAN.csv',delimiter=';') \n",
        "lend_com_incompl1  # here we are using incomplete data and we clean it"
      ],
      "execution_count": 19,
      "outputs": [
        {
          "output_type": "execute_result",
          "data": {
            "text/plain": [
              "array([[ 2000.,    40.,   365.,  3121.,  4241., 13621.],\n",
              "       [ 2000.,    40.,   365.,  3061.,  4171., 15041.],\n",
              "       [ 1000.,    40.,   365.,  2160.,  3280., 15340.],\n",
              "       ...,\n",
              "       [   nan,    40.,   365.,  4201.,  5001., 16600.],\n",
              "       [ 1000.,    40.,   365.,  2080.,  3320., 15600.],\n",
              "       [ 2000.,    40.,   365.,  4601.,  4601., 16600.]])"
            ]
          },
          "metadata": {},
          "execution_count": 19
        }
      ]
    },
    {
      "cell_type": "code",
      "metadata": {
        "colab": {
          "base_uri": "https://localhost:8080/"
        },
        "id": "76OVPnZGz1UT",
        "outputId": "7d0462c1-af67-47b8-c93c-90e03dc24858"
      },
      "source": [
        "lend_com_incompl1=np.genfromtxt('LendingComDataNAN.csv',delimiter=';',skip_header = 2) # this will remove first 2 lines of the dataset \n",
        "lend_com_incompl1"
      ],
      "execution_count": 20,
      "outputs": [
        {
          "output_type": "execute_result",
          "data": {
            "text/plain": [
              "array([[ 1000.,    40.,   365.,  2160.,  3280., 15340.],\n",
              "       [ 2000.,    40.,   365.,  3041.,  4241., 15321.],\n",
              "       [ 2000.,    50.,   365.,  3470.,  4820., 13720.],\n",
              "       ...,\n",
              "       [   nan,    40.,   365.,  4201.,  5001., 16600.],\n",
              "       [ 1000.,    40.,   365.,  2080.,  3320., 15600.],\n",
              "       [ 2000.,    40.,   365.,  4601.,  4601., 16600.]])"
            ]
          },
          "metadata": {},
          "execution_count": 20
        }
      ]
    },
    {
      "cell_type": "code",
      "metadata": {
        "colab": {
          "base_uri": "https://localhost:8080/"
        },
        "id": "ddtEGVjs0ngz",
        "outputId": "d980cfed-c1cc-4d4a-f5c5-1b48ee1584fb"
      },
      "source": [
        "lend_com_incompl1=np.genfromtxt('LendingComDataNAN.csv',delimiter=';', skip_footer=2) # removes last 2 lines \n",
        "lend_com_incompl1"
      ],
      "execution_count": 21,
      "outputs": [
        {
          "output_type": "execute_result",
          "data": {
            "text/plain": [
              "array([[ 2000.,    40.,   365.,  3121.,  4241., 13621.],\n",
              "       [ 2000.,    40.,   365.,  3061.,  4171., 15041.],\n",
              "       [ 1000.,    40.,   365.,  2160.,  3280., 15340.],\n",
              "       ...,\n",
              "       [ 2000.,    40.,   365.,  3401.,    nan, 16600.],\n",
              "       [ 2000.,    40.,   365.,    nan,  5440., 16600.],\n",
              "       [   nan,    40.,   365.,  4201.,  5001., 16600.]])"
            ]
          },
          "metadata": {},
          "execution_count": 21
        }
      ]
    },
    {
      "cell_type": "code",
      "metadata": {
        "colab": {
          "base_uri": "https://localhost:8080/"
        },
        "id": "WW45prLe0vfR",
        "outputId": "ab6a88f5-d090-43af-847b-7e447c62c2de"
      },
      "source": [
        "lend_com_incompl1=np.genfromtxt('LendingComDataNAN.csv',delimiter=';', usecols=(0,2)) # will only import 1st and 3rd columnm\n",
        "lend_com_incompl1"
      ],
      "execution_count": 23,
      "outputs": [
        {
          "output_type": "execute_result",
          "data": {
            "text/plain": [
              "array([[2000.,  365.],\n",
              "       [2000.,  365.],\n",
              "       [1000.,  365.],\n",
              "       ...,\n",
              "       [  nan,  365.],\n",
              "       [1000.,  365.],\n",
              "       [2000.,  365.]])"
            ]
          },
          "metadata": {},
          "execution_count": 23
        }
      ]
    },
    {
      "cell_type": "code",
      "metadata": {
        "colab": {
          "base_uri": "https://localhost:8080/"
        },
        "id": "8rD0CyTf1N9Z",
        "outputId": "90974938-5030-4f9c-ff90-301192efe1b4"
      },
      "source": [
        "lend_com_incompl1=np.genfromtxt('LendingComDataNAN.csv',delimiter=';', usecols=(0,3,2)) # we need not import them in order we xan also shuffel the columns\n",
        "lend_com_incompl1   # so the output will have 1st col, 4th col and 3rd col"
      ],
      "execution_count": 24,
      "outputs": [
        {
          "output_type": "execute_result",
          "data": {
            "text/plain": [
              "array([[2000., 3121.,  365.],\n",
              "       [2000., 3061.,  365.],\n",
              "       [1000., 2160.,  365.],\n",
              "       ...,\n",
              "       [  nan, 4201.,  365.],\n",
              "       [1000., 2080.,  365.],\n",
              "       [2000., 4601.,  365.]])"
            ]
          },
          "metadata": {},
          "execution_count": 24
        }
      ]
    },
    {
      "cell_type": "code",
      "metadata": {
        "colab": {
          "base_uri": "https://localhost:8080/"
        },
        "id": "KmT1wa9q1orH",
        "outputId": "257acdfc-527b-446e-e397-c144ba0e855b"
      },
      "source": [
        "lend_com_incompl1=np.genfromtxt('LendingComDataNAN.csv',delimiter=';', skip_header=2, skip_footer=2, usecols=(0,3,2)) \n",
        "lend_com_incompl1"
      ],
      "execution_count": 25,
      "outputs": [
        {
          "output_type": "execute_result",
          "data": {
            "text/plain": [
              "array([[1000., 2160.,  365.],\n",
              "       [2000., 3041.,  365.],\n",
              "       [2000., 3470.,  365.],\n",
              "       ...,\n",
              "       [2000., 3401.,  365.],\n",
              "       [2000.,   nan,  365.],\n",
              "       [  nan, 4201.,  365.]])"
            ]
          },
          "metadata": {},
          "execution_count": 25
        }
      ]
    },
    {
      "cell_type": "code",
      "metadata": {
        "colab": {
          "base_uri": "https://localhost:8080/"
        },
        "id": "OVfyToAM17do",
        "outputId": "1ca61564-64b8-4ccc-fa1b-77beb9f0ca9a"
      },
      "source": [
        "# we can also make each col into a variable\n",
        "lend_col5, lend_col2, lend_col0=np.genfromtxt('LendingComDataNAN.csv',delimiter=';',\n",
        "                                              usecols=(5,2,0),\n",
        "                                              skip_header=2,\n",
        "                                              skip_footer=2,\n",
        "                                              unpack=True)  # unpack will tell the function to unpack the data and pass them to assigned variables\n",
        "                  # it is important to remember that the output is generated  according to the order in the usecols aurgument\n",
        "print(lend_col5)\n",
        "print(lend_col2)\n",
        "print(lend_col0)\n",
        "# check the documentation for more applications of genfromtxt   https://numpy.org/doc/stable/reference/generated/numpy.genfromtxt.html?highlight=genfromtxt#numpy.genfromtxt"
      ],
      "execution_count": 29,
      "outputs": [
        {
          "output_type": "stream",
          "name": "stdout",
          "text": [
            "[15340. 15321. 13720. ... 16600. 16600. 16600.]\n",
            "[365. 365. 365. ... 365. 365. 365.]\n",
            "[1000. 2000. 2000. ... 2000. 2000.   nan]\n"
          ]
        }
      ]
    },
    {
      "cell_type": "code",
      "metadata": {
        "colab": {
          "base_uri": "https://localhost:8080/"
        },
        "id": "ZgzqoVrw3uB3",
        "outputId": "314bd0cf-e3b4-414d-fa5a-f0c841ef2f25"
      },
      "source": [
        "# different ways python can interpret a dataset\n",
        "lending_co_tp=np.genfromtxt('Lending-Company-Total-Price.csv',delimiter=',')\n",
        "print(lending_co_tp)\n",
        "# nan in python means Not-A-Number\n",
        "# 1.660e+04 = 1.660 * 10^4 = 16600.0\n",
        "# by default it assumes decimal numbers for entire data set and uses scientific notations to display integers that way"
      ],
      "execution_count": 62,
      "outputs": [
        {
          "output_type": "stream",
          "name": "stdout",
          "text": [
            "[[      nan       nan       nan ...       nan       nan       nan]\n",
            " [1.000e+00       nan       nan ...       nan       nan 1.660e+04]\n",
            " [2.000e+00       nan       nan ...       nan       nan 1.660e+04]\n",
            " ...\n",
            " [4.130e+02       nan       nan ...       nan       nan 1.660e+04]\n",
            " [4.140e+02       nan       nan ...       nan       nan 1.560e+04]\n",
            " [4.150e+02       nan       nan ...       nan       nan 2.225e+04]]\n"
          ]
        }
      ]
    },
    {
      "cell_type": "code",
      "metadata": {
        "colab": {
          "base_uri": "https://localhost:8080/"
        },
        "id": "Z38vQuOi7lmV",
        "outputId": "264ce8cc-6e1b-4ed1-bb3e-7a705761b80b"
      },
      "source": [
        "# to import the data in integer format\n",
        "lending_co_tp1=np.genfromtxt('Lending-Company-Total-Price.csv',delimiter=',',dtype='int32')\n",
        "print(lending_co_tp1)\n",
        "# by specifing the input data to be a specific data type the function genarates the missing values(not a number) differently\n",
        "# as we can see they are changed into -1 so we meed to be carefull when we as python to perform computations after we have imported missing values as integers\n",
        "# as -1 + -1 returns -2"
      ],
      "execution_count": 61,
      "outputs": [
        {
          "output_type": "stream",
          "name": "stdout",
          "text": [
            "[[   -1    -1    -1 ...    -1    -1    -1]\n",
            " [    1    -1    -1 ...    -1    -1 16600]\n",
            " [    2    -1    -1 ...    -1    -1 16600]\n",
            " ...\n",
            " [  413    -1    -1 ...    -1    -1 16600]\n",
            " [  414    -1    -1 ...    -1    -1 15600]\n",
            " [  415    -1    -1 ...    -1    -1 22250]]\n"
          ]
        }
      ]
    },
    {
      "cell_type": "code",
      "metadata": {
        "colab": {
          "base_uri": "https://localhost:8080/"
        },
        "id": "nNf-wPXV97bY",
        "outputId": "b43918c9-a813-4173-f9ab-9db5fa10c27f"
      },
      "source": [
        "# to import the data set as it is i.e. as txt use dtype='str'\n",
        "lending_co_tp2=np.genfromtxt('Lending-Company-Total-Price.csv',delimiter=',',dtype='str')\n",
        "print(lending_co_tp2)  # as we have imported the dataset as it is we can now see what are the nan values\n",
        "# but here we cannot do any mathematical operations"
      ],
      "execution_count": 35,
      "outputs": [
        {
          "output_type": "stream",
          "name": "stdout",
          "text": [
            "[['LoanID' 'StringID' 'Product' ... 'Location' 'Region' 'TotalPrice']\n",
            " ['1' 'id_1' 'Product B' ... 'Location 2' 'Region 2' '16600']\n",
            " ['2' 'id_2' 'Product B' ... 'Location 3' '' '16600']\n",
            " ...\n",
            " ['413' 'id_413' 'Product B' ... 'Location 135' 'Region 1' '16600']\n",
            " ['414' 'id_414' 'Product C' ... 'Location 200' 'Region 6' '15600']\n",
            " ['415' 'id_415' 'Product A' ... 'Location 8' 'Region 2' '22250']]\n"
          ]
        }
      ]
    },
    {
      "cell_type": "code",
      "metadata": {
        "colab": {
          "base_uri": "https://localhost:8080/"
        },
        "id": "99nQEX25-ftz",
        "outputId": "212b1eed-07b2-4fd7-c778-9aba76a94217"
      },
      "source": [
        "# importing the data types as objects\n",
        "lending_co_tp3=np.genfromtxt('Lending-Company-Total-Price.csv',delimiter=',',dtype='object')\n",
        "print(lending_co_tp3)  # the only diff is there is a b in frront of every value\n",
        "# it means the data is not just a plain text we can't freely manipulate the values\n",
        "# we dont use objects much we use them in backward compatability"
      ],
      "execution_count": 38,
      "outputs": [
        {
          "output_type": "stream",
          "name": "stdout",
          "text": [
            "[[b'LoanID' b'StringID' b'Product' ... b'Location' b'Region'\n",
            "  b'TotalPrice']\n",
            " [b'1' b'id_1' b'Product B' ... b'Location 2' b'Region 2' b'16600']\n",
            " [b'2' b'id_2' b'Product B' ... b'Location 3' b'' b'16600']\n",
            " ...\n",
            " [b'413' b'id_413' b'Product B' ... b'Location 135' b'Region 1' b'16600']\n",
            " [b'414' b'id_414' b'Product C' ... b'Location 200' b'Region 6' b'15600']\n",
            " [b'415' b'id_415' b'Product A' ... b'Location 8' b'Region 2' b'22250']]\n"
          ]
        }
      ]
    },
    {
      "cell_type": "code",
      "metadata": {
        "colab": {
          "base_uri": "https://localhost:8080/"
        },
        "id": "eqWmO2xy_Q4Y",
        "outputId": "b3c6a7ee-99d0-4c36-f97c-530873fc5372"
      },
      "source": [
        "# importing data as an array of multiple types\n",
        "lending_co_tp4=np.genfromtxt('Lending-Company-Total-Price.csv',delimiter=',',dtype=('int32','str','str','str','str','str','int32'))\n",
        "print(lending_co_tp4)  # we can see str are imported as empty spaces because arrays usually consists of a single numeric datatype"
      ],
      "execution_count": 41,
      "outputs": [
        {
          "output_type": "stream",
          "name": "stdout",
          "text": [
            "[( -1, '', '', '', '', '',    -1) (  1, '', '', '', '', '', 16600)\n",
            " (  2, '', '', '', '', '', 16600) (  3, '', '', '', '', '', 15600)\n",
            " (  4, '', '', '', '', '', 16600) (  5, '', '', '', '', '', 20250)\n",
            " (  6, '', '', '', '', '',    -1) (  7, '', '', '', '', '', 20250)\n",
            " (  8, '', '', '', '', '', 16600) (  9, '', '', '', '', '', 22250)\n",
            " ( 10, '', '', '', '', '', 20250) ( 11, '', '', '', '', '', 16600)\n",
            " ( 12, '', '', '', '', '', 20250) ( 13, '', '', '', '', '', 16600)\n",
            " ( 14, '', '', '', '', '', 20750) ( 15, '', '', '', '', '', 22250)\n",
            " ( 16, '', '', '', '', '', 16600) ( 17, '', '', '', '', '', 22250)\n",
            " ( 18, '', '', '', '', '', 16600) ( 19, '', '', '', '', '', 16600)\n",
            " ( 20, '', '', '', '', '', 54625) ( 21, '', '', '', '', '', 16600)\n",
            " ( 22, '', '', '', '', '', 22250) ( 23, '', '', '', '', '', 19250)\n",
            " ( 24, '', '', '', '', '', 15600) ( 25, '', '', '', '', '', 20250)\n",
            " ( 26, '', '', '', '', '', 22250) ( 27, '', '', '', '', '', 19250)\n",
            " ( 28, '', '', '', '', '', 69225) ( 29, '', '', '', '', '', 20250)\n",
            " ( 30, '', '', '', '', '', 16600) ( 31, '', '', '', '', '', 16600)\n",
            " ( 32, '', '', '', '', '', 16600) ( 33, '', '', '', '', '', 19250)\n",
            " ( 34, '', '', '', '', '', 16600) ( 35, '', '', '', '', '', 19250)\n",
            " ( 36, '', '', '', '', '', 16600) ( 37, '', '', '', '', '', 16600)\n",
            " ( 38, '', '', '', '', '', 16600) ( 39, '', '', '', '', '', 15600)\n",
            " ( 40, '', '', '', '', '', 16600) ( 41, '', '', '', '', '', 16600)\n",
            " ( 42, '', '', '', '', '', 16600) ( 43, '', '', '', '', '', 19250)\n",
            " ( 44, '', '', '', '', '', 15600) ( 45, '', '', '', '', '', 19250)\n",
            " ( 46, '', '', '', '', '', 16600) ( 47, '', '', '', '', '', 16600)\n",
            " ( 48, '', '', '', '', '', 16600) ( 49, '', '', '', '', '', 20250)\n",
            " ( 50, '', '', '', '', '', 22250) ( 51, '', '', '', '', '', 16600)\n",
            " ( 52, '', '', '', '', '', 20250) ( 53, '', '', '', '', '', 20250)\n",
            " ( 54, '', '', '', '', '', 16600) ( 55, '', '', '', '', '', 16600)\n",
            " ( 56, '', '', '', '', '', 16600) ( 57, '', '', '', '', '',    -1)\n",
            " ( 58, '', '', '', '', '', 16600) ( 59, '', '', '', '', '', 16600)\n",
            " ( 60, '', '', '', '', '', 16600) ( 61, '', '', '', '', '', 19250)\n",
            " ( 62, '', '', '', '', '', 15600) ( 63, '', '', '', '', '', 15600)\n",
            " ( 64, '', '', '', '', '', 20250) ( 65, '', '', '', '', '', 16600)\n",
            " ( 66, '', '', '', '', '', 22250) ( 67, '', '', '', '', '', 22250)\n",
            " ( 68, '', '', '', '', '', 20250) ( 69, '', '', '', '', '', 20250)\n",
            " ( 70, '', '', '', '', '', 16600) ( 71, '', '', '', '', '', 15600)\n",
            " ( 72, '', '', '', '', '', 16600) ( 73, '', '', '', '', '', 16600)\n",
            " ( 74, '', '', '', '', '', 22250) ( 75, '', '', '', '', '', 20750)\n",
            " ( 76, '', '', '', '', '', 22250) ( 77, '', '', '', '', '', 19250)\n",
            " ( 78, '', '', '', '', '', 20250) ( 79, '', '', '', '', '', 20250)\n",
            " ( 80, '', '', '', '', '', 20250) ( 81, '', '', '', '', '', 19250)\n",
            " ( 82, '', '', '', '', '', 16600) ( 83, '', '', '', '', '', 22250)\n",
            " ( 84, '', '', '', '', '', 20250) ( 85, '', '', '', '', '', 16600)\n",
            " ( 86, '', '', '', '', '', 19250) ( 87, '', '', '', '', '', 22250)\n",
            " ( 88, '', '', '', '', '', 16600) ( 89, '', '', '', '', '', 19250)\n",
            " ( 90, '', '', '', '', '', 16600) ( 91, '', '', '', '', '',    -1)\n",
            " ( 92, '', '', '', '', '', 20250) ( 93, '', '', '', '', '', 16600)\n",
            " ( 94, '', '', '', '', '', 16600) ( 95, '', '', '', '', '', 19250)\n",
            " ( 96, '', '', '', '', '', 16600) ( 97, '', '', '', '', '', 16600)\n",
            " ( 98, '', '', '', '', '', 22250) ( 99, '', '', '', '', '', 22250)\n",
            " (100, '', '', '', '', '', 16600) (101, '', '', '', '', '', 16600)\n",
            " (102, '', '', '', '', '', 19250) (103, '', '', '', '', '', 16600)\n",
            " (104, '', '', '', '', '', 22250) (105, '', '', '', '', '', 19250)\n",
            " (106, '', '', '', '', '', 16600) (107, '', '', '', '', '', 16600)\n",
            " (108, '', '', '', '', '', 19250) (109, '', '', '', '', '', 16600)\n",
            " (110, '', '', '', '', '', 22250) (111, '', '', '', '', '', 16600)\n",
            " (112, '', '', '', '', '', 15600) (113, '', '', '', '', '', 16600)\n",
            " (114, '', '', '', '', '', 20250) (115, '', '', '', '', '', 16600)\n",
            " (116, '', '', '', '', '', 19250) (117, '', '', '', '', '', 19250)\n",
            " (118, '', '', '', '', '', 19250) (119, '', '', '', '', '', 15600)\n",
            " (120, '', '', '', '', '', 22250) (121, '', '', '', '', '', 22250)\n",
            " (122, '', '', '', '', '', 16600) (123, '', '', '', '', '', 20250)\n",
            " (124, '', '', '', '', '', 16600) (125, '', '', '', '', '', 16600)\n",
            " (126, '', '', '', '', '', 20750) (127, '', '', '', '', '', 20250)\n",
            " (128, '', '', '', '', '', 16600) (129, '', '', '', '', '', 16600)\n",
            " (130, '', '', '', '', '', 16600) (131, '', '', '', '', '', 15600)\n",
            " (132, '', '', '', '', '', 16600) (133, '', '', '', '', '', 15600)\n",
            " (134, '', '', '', '', '', 19250) (135, '', '', '', '', '', 16600)\n",
            " (136, '', '', '', '', '', 16600) (137, '', '', '', '', '', 20250)\n",
            " (138, '', '', '', '', '', 19250) (139, '', '', '', '', '', 15600)\n",
            " (140, '', '', '', '', '', 16600) (141, '', '', '', '', '', 16600)\n",
            " (142, '', '', '', '', '', 16600) (143, '', '', '', '', '', 15600)\n",
            " (144, '', '', '', '', '', 16600) (145, '', '', '', '', '', 15600)\n",
            " (146, '', '', '', '', '', 19250) (147, '', '', '', '', '', 22250)\n",
            " (148, '', '', '', '', '', 20250) (149, '', '', '', '', '', 19250)\n",
            " (150, '', '', '', '', '', 22250) (151, '', '', '', '', '', 16600)\n",
            " (152, '', '', '', '', '', 22250) (153, '', '', '', '', '', 54625)\n",
            " (154, '', '', '', '', '', 54625) (155, '', '', '', '', '', 16600)\n",
            " (156, '', '', '', '', '', 22250) (157, '', '', '', '', '', 22250)\n",
            " (158, '', '', '', '', '', 22250) (159, '', '', '', '', '', 22250)\n",
            " (160, '', '', '', '', '', 15600) (161, '', '', '', '', '',    -1)\n",
            " (162, '', '', '', '', '', 16600) (163, '', '', '', '', '', 22250)\n",
            " (164, '', '', '', '', '', 20250) (165, '', '', '', '', '', 22250)\n",
            " (166, '', '', '', '', '', 16600) (167, '', '', '', '', '', 19250)\n",
            " (168, '', '', '', '', '', 20250) (169, '', '', '', '', '', 16600)\n",
            " (170, '', '', '', '', '', 20250) (171, '', '', '', '', '', 16600)\n",
            " (172, '', '', '', '', '', 16600) (173, '', '', '', '', '', 20250)\n",
            " (174, '', '', '', '', '', 20250) (175, '', '', '', '', '', 16600)\n",
            " (176, '', '', '', '', '', 20250) (177, '', '', '', '', '', 19250)\n",
            " (178, '', '', '', '', '', 16600) (179, '', '', '', '', '', 20750)\n",
            " (180, '', '', '', '', '', 20250) (181, '', '', '', '', '', 22250)\n",
            " (182, '', '', '', '', '', 16600) (183, '', '', '', '', '', 20250)\n",
            " (184, '', '', '', '', '', 20250) (185, '', '', '', '', '', 16600)\n",
            " (186, '', '', '', '', '', 20250) (187, '', '', '', '', '', 20750)\n",
            " (188, '', '', '', '', '', 16600) (189, '', '', '', '', '', 16600)\n",
            " (190, '', '', '', '', '', 22250) (191, '', '', '', '', '', 22250)\n",
            " (192, '', '', '', '', '', 22250) (193, '', '', '', '', '', 16600)\n",
            " (194, '', '', '', '', '', 54625) (195, '', '', '', '', '', 16600)\n",
            " (196, '', '', '', '', '', 22250) (197, '', '', '', '', '', 16600)\n",
            " (198, '', '', '', '', '', 20250) (199, '', '', '', '', '', 22250)\n",
            " (200, '', '', '', '', '', 15600) (201, '', '', '', '', '', 20250)\n",
            " (202, '', '', '', '', '', 16600) (203, '', '', '', '', '', 54625)\n",
            " (204, '', '', '', '', '', 16600) (205, '', '', '', '', '', 16600)\n",
            " (206, '', '', '', '', '', 22250) (207, '', '', '', '', '', 19250)\n",
            " (208, '', '', '', '', '', 19250) (209, '', '', '', '', '', 19250)\n",
            " (210, '', '', '', '', '', 22250) (211, '', '', '', '', '', 15600)\n",
            " (212, '', '', '', '', '', 22250) (213, '', '', '', '', '', 15600)\n",
            " (214, '', '', '', '', '', 16600) (215, '', '', '', '', '', 22250)\n",
            " (216, '', '', '', '', '', 22250) (217, '', '', '', '', '', 16600)\n",
            " (218, '', '', '', '', '', 20750) (219, '', '', '', '', '', 19250)\n",
            " (220, '', '', '', '', '', 16600) (221, '', '', '', '', '',    -1)\n",
            " (222, '', '', '', '', '', 16600) (223, '', '', '', '', '', 22250)\n",
            " (224, '', '', '', '', '', 19250) (225, '', '', '', '', '', 16600)\n",
            " (226, '', '', '', '', '', 16600) (227, '', '', '', '', '', 19250)\n",
            " (228, '', '', '', '', '', 19250) (229, '', '', '', '', '', 16600)\n",
            " (230, '', '', '', '', '', 20250) (231, '', '', '', '', '', 22250)\n",
            " (232, '', '', '', '', '', 15600) (233, '', '', '', '', '', 16600)\n",
            " (234, '', '', '', '', '', 16600) (235, '', '', '', '', '', 54625)\n",
            " (236, '', '', '', '', '', 19250) (237, '', '', '', '', '', 22250)\n",
            " (238, '', '', '', '', '', 16600) (239, '', '', '', '', '', 22250)\n",
            " (240, '', '', '', '', '', 19250) (241, '', '', '', '', '', 19250)\n",
            " (242, '', '', '', '', '', 20750) (243, '', '', '', '', '', 20750)\n",
            " (244, '', '', '', '', '', 16600) (245, '', '', '', '', '', 16600)\n",
            " (246, '', '', '', '', '', 22250) (247, '', '', '', '', '', 16600)\n",
            " (248, '', '', '', '', '', 16600) (249, '', '', '', '', '', 16600)\n",
            " (250, '', '', '', '', '', 16600) (251, '', '', '', '', '', 15600)\n",
            " (252, '', '', '', '', '', 19250) (253, '', '', '', '', '', 20250)\n",
            " (254, '', '', '', '', '', 22250) (255, '', '', '', '', '', 19250)\n",
            " (256, '', '', '', '', '', 22250) (257, '', '', '', '', '', 22250)\n",
            " (258, '', '', '', '', '', 22250) (259, '', '', '', '', '', 16600)\n",
            " (260, '', '', '', '', '', 20250) (261, '', '', '', '', '', 16600)\n",
            " (262, '', '', '', '', '', 16600) (263, '', '', '', '', '', 16600)\n",
            " (264, '', '', '', '', '', 19250) (265, '', '', '', '', '', 16600)\n",
            " (266, '', '', '', '', '', 16600) (267, '', '', '', '', '', 15600)\n",
            " (268, '', '', '', '', '', 16600) (269, '', '', '', '', '', 22250)\n",
            " (270, '', '', '', '', '', 19250) (271, '', '', '', '', '',    -1)\n",
            " (272, '', '', '', '', '', 22250) (273, '', '', '', '', '', 15600)\n",
            " (274, '', '', '', '', '', 15600) (275, '', '', '', '', '', 16600)\n",
            " (276, '', '', '', '', '', 19250) (277, '', '', '', '', '', 16600)\n",
            " (278, '', '', '', '', '', 54625) (279, '', '', '', '', '', 16600)\n",
            " (280, '', '', '', '', '', 16600) (281, '', '', '', '', '', 16600)\n",
            " (282, '', '', '', '', '', 19250) (283, '', '', '', '', '', 22250)\n",
            " (284, '', '', '', '', '', 22250) (285, '', '', '', '', '', 16600)\n",
            " (286, '', '', '', '', '', 19250) (287, '', '', '', '', '', 19250)\n",
            " (288, '', '', '', '', '', 15600) (289, '', '', '', '', '', 54625)\n",
            " (290, '', '', '', '', '', 16600) (291, '', '', '', '', '', 16600)\n",
            " (292, '', '', '', '', '', 15600) (293, '', '', '', '', '', 20250)\n",
            " (294, '', '', '', '', '', 19250) (295, '', '', '', '', '', 19250)\n",
            " (296, '', '', '', '', '', 15600) (297, '', '', '', '', '', 15600)\n",
            " (298, '', '', '', '', '', 19250) (299, '', '', '', '', '', 16600)\n",
            " (300, '', '', '', '', '', 20250) (301, '', '', '', '', '', 20750)\n",
            " (302, '', '', '', '', '', 16600) (303, '', '', '', '', '', 16600)\n",
            " (304, '', '', '', '', '', 16600) (305, '', '', '', '', '', 22250)\n",
            " (306, '', '', '', '', '', 16600) (307, '', '', '', '', '', 22250)\n",
            " (308, '', '', '', '', '', 20250) (309, '', '', '', '', '', 16600)\n",
            " (310, '', '', '', '', '', 19250) (311, '', '', '', '', '', 22250)\n",
            " (312, '', '', '', '', '', 16600) (313, '', '', '', '', '', 15600)\n",
            " (314, '', '', '', '', '', 16600) (315, '', '', '', '', '', 16600)\n",
            " (316, '', '', '', '', '', 15600) (317, '', '', '', '', '', 16600)\n",
            " (318, '', '', '', '', '', 20250) (319, '', '', '', '', '', 19250)\n",
            " (320, '', '', '', '', '', 20250) (321, '', '', '', '', '', 16600)\n",
            " (322, '', '', '', '', '', 22250) (323, '', '', '', '', '', 16600)\n",
            " (324, '', '', '', '', '', 22250) (325, '', '', '', '', '', 22250)\n",
            " (326, '', '', '', '', '', 19250) (327, '', '', '', '', '', 54625)\n",
            " (328, '', '', '', '', '', 13775) (329, '', '', '', '', '', 16600)\n",
            " (330, '', '', '', '', '', 16600) (331, '', '', '', '', '',    -1)\n",
            " (332, '', '', '', '', '', 20750) (333, '', '', '', '', '', 16600)\n",
            " (334, '', '', '', '', '', 19250) (335, '', '', '', '', '', 22250)\n",
            " (336, '', '', '', '', '', 20250) (337, '', '', '', '', '', 22250)\n",
            " (338, '', '', '', '', '', 19250) (339, '', '', '', '', '', 16600)\n",
            " (340, '', '', '', '', '', 15600) (341, '', '', '', '', '', 20250)\n",
            " (342, '', '', '', '', '', 22250) (343, '', '', '', '', '', 22250)\n",
            " (344, '', '', '', '', '', 16600) (345, '', '', '', '', '', 22250)\n",
            " (346, '', '', '', '', '', 20250) (347, '', '', '', '', '', 16600)\n",
            " (348, '', '', '', '', '', 22250) (349, '', '', '', '', '', 19250)\n",
            " (350, '', '', '', '', '', 16600) (351, '', '', '', '', '', 16600)\n",
            " (352, '', '', '', '', '', 15600) (353, '', '', '', '', '', 19250)\n",
            " (354, '', '', '', '', '', 16600) (355, '', '', '', '', '', 20250)\n",
            " (356, '', '', '', '', '', 16600) (357, '', '', '', '', '', 22250)\n",
            " (358, '', '', '', '', '', 16600) (359, '', '', '', '', '', 15600)\n",
            " (360, '', '', '', '', '', 20250) (361, '', '', '', '', '', 22250)\n",
            " (362, '', '', '', '', '', 20250) (363, '', '', '', '', '', 16600)\n",
            " (364, '', '', '', '', '', 22250) (365, '', '', '', '', '', 16600)\n",
            " (366, '', '', '', '', '', 16600) (367, '', '', '', '', '', 16600)\n",
            " (368, '', '', '', '', '', 20250) (369, '', '', '', '', '', 16600)\n",
            " (370, '', '', '', '', '', 16600) (371, '', '', '', '', '', 16600)\n",
            " (372, '', '', '', '', '', 19250) (373, '', '', '', '', '', 20250)\n",
            " (374, '', '', '', '', '', 16600) (375, '', '', '', '', '', 16600)\n",
            " (376, '', '', '', '', '', 22250) (377, '', '', '', '', '', 19250)\n",
            " (378, '', '', '', '', '', 22250) (379, '', '', '', '', '', 16600)\n",
            " (380, '', '', '', '', '', 19250) (381, '', '', '', '', '',    -1)\n",
            " (382, '', '', '', '', '', 20250) (383, '', '', '', '', '', 20750)\n",
            " (384, '', '', '', '', '', 16600) (385, '', '', '', '', '', 16600)\n",
            " (386, '', '', '', '', '', 16600) (387, '', '', '', '', '', 16600)\n",
            " (388, '', '', '', '', '', 20250) (389, '', '', '', '', '', 16600)\n",
            " (390, '', '', '', '', '', 22250) (391, '', '', '', '', '', 15600)\n",
            " (392, '', '', '', '', '', 16600) (393, '', '', '', '', '', 16600)\n",
            " (394, '', '', '', '', '', 15600) (395, '', '', '', '', '', 16600)\n",
            " (396, '', '', '', '', '', 15600) (397, '', '', '', '', '', 19250)\n",
            " (398, '', '', '', '', '', 20250) (399, '', '', '', '', '', 16600)\n",
            " (400, '', '', '', '', '', 16600) (401, '', '', '', '', '', 16600)\n",
            " (402, '', '', '', '', '', 16600) (403, '', '', '', '', '', 15600)\n",
            " (404, '', '', '', '', '', 16600) (405, '', '', '', '', '', 19250)\n",
            " (406, '', '', '', '', '', 16600) (407, '', '', '', '', '', 20250)\n",
            " (408, '', '', '', '', '', 20250) (409, '', '', '', '', '', 69225)\n",
            " (410, '', '', '', '', '', 15600) (411, '', '', '', '', '', 16600)\n",
            " (412, '', '', '', '', '', 16600) (413, '', '', '', '', '', 16600)\n",
            " (414, '', '', '', '', '', 15600) (415, '', '', '', '', '', 22250)]\n"
          ]
        }
      ]
    },
    {
      "cell_type": "markdown",
      "metadata": {
        "id": "S8MLuq8HCZJG"
      },
      "source": [
        "load a datase != import a dataset\n",
        "importing doesn't keep track of the data type of the original array we may need to specify the datatype of the values after having brought them into python\n",
        "\n",
        "when loading we don't need to specify or change our data while working with our python object\n",
        "\n",
        "but in.npy it keeps the format of entire dataset eg when you store certain parts of the dataset as numbers and when we load the dataset back into python it will consider them as numbers automatically"
      ]
    },
    {
      "cell_type": "code",
      "metadata": {
        "colab": {
          "base_uri": "https://localhost:8080/"
        },
        "id": "Rj7CVDFeAnXX",
        "outputId": "f28b9113-13ec-4aed-a4fb-3573d19a4e8d"
      },
      "source": [
        "#np.save() : it creates a file to store the data in a special type called file_name.npy .npy is native to numpy\n",
        "# ,npy files are much faster and take up way less memory space\n",
        "lending_co=np.genfromtxt('Lending-Company-Saving.csv', delimiter=',', dtype='str')\n",
        "print(lending_co)"
      ],
      "execution_count": 43,
      "outputs": [
        {
          "output_type": "stream",
          "name": "stdout",
          "text": [
            "[['LoanID' 'StringID' 'Product' ... 'Location' 'Region' 'TotalPrice']\n",
            " ['1' 'id_1' 'Product B' ... 'Location 2' 'Region 2' '16600.0']\n",
            " ['2' 'id_2' 'Product B' ... 'Location 3' '' '16600.0']\n",
            " ...\n",
            " ['1041' 'id_1041' 'Product B' ... 'Location 23' 'Region 4' '16600.0']\n",
            " ['1042' 'id_1042' 'Product C' ... 'Location 52' 'Region 6' '15600.0']\n",
            " ['1043' 'id_1043' 'Product B' ... 'Location 142' 'Region 6' '16600.0']]\n"
          ]
        }
      ]
    },
    {
      "cell_type": "code",
      "metadata": {
        "id": "ud_zK-3lENW-"
      },
      "source": [
        "np.save('Lending-Company-Saving', lending_co)"
      ],
      "execution_count": 44,
      "outputs": []
    },
    {
      "cell_type": "code",
      "metadata": {
        "colab": {
          "base_uri": "https://localhost:8080/"
        },
        "id": "q48TLVG5EaYD",
        "outputId": "3133aaf2-616e-498c-d1ac-25ca43a0eade"
      },
      "source": [
        "lending_data_save = np.load('Lending-Company-Saving.npy')   # loading the data using np.load() from .npy \n",
        "print(lending_data_save)  # we can see that its values are still stored as strings\n",
        "print(np.array_equal(lending_co, lending_data_save)) # checking if both of them are  save \n",
        "# soit means that the data is unaltered even aftersaving it and loading it back again"
      ],
      "execution_count": 47,
      "outputs": [
        {
          "output_type": "stream",
          "name": "stdout",
          "text": [
            "[['LoanID' 'StringID' 'Product' ... 'Location' 'Region' 'TotalPrice']\n",
            " ['1' 'id_1' 'Product B' ... 'Location 2' 'Region 2' '16600.0']\n",
            " ['2' 'id_2' 'Product B' ... 'Location 3' '' '16600.0']\n",
            " ...\n",
            " ['1041' 'id_1041' 'Product B' ... 'Location 23' 'Region 4' '16600.0']\n",
            " ['1042' 'id_1042' 'Product C' ... 'Location 52' 'Region 6' '15600.0']\n",
            " ['1043' 'id_1043' 'Product B' ... 'Location 142' 'Region 6' '16600.0']]\n",
            "True\n"
          ]
        }
      ]
    },
    {
      "cell_type": "code",
      "metadata": {
        "id": "a3sKN44RFeex"
      },
      "source": [
        "#np.savez() creates .npz file\n",
        "lending_coz=np.genfromtxt('Lending-Company-Saving.csv', delimiter=',', dtype='str')\n",
        "\n",
        "lending_data_save = np.load('Lending-Company-Saving.npy')"
      ],
      "execution_count": 73,
      "outputs": []
    },
    {
      "cell_type": "code",
      "metadata": {
        "id": "EEP-fwCDTkCM"
      },
      "source": [
        "np.savez('Lending-Company-Saving', lending_coz, lending_co_tp)   # we are passing 2 array data sets of lending sacings and lending total price\n",
        "# .npz is like archives of .npy's that can store multiple arrays \n",
        "# instead of storing diff data sets in separate npy files we can store all of them in single .npz file "
      ],
      "execution_count": 74,
      "outputs": []
    },
    {
      "cell_type": "code",
      "metadata": {
        "colab": {
          "base_uri": "https://localhost:8080/"
        },
        "id": "7KELoZHEUpfV",
        "outputId": "be128da9-73eb-450e-ebf9-559abec54733"
      },
      "source": [
        "lending_data_savez = np.load('Lending-Company-Saving.npz')\n",
        "print(lending_data_savez)  # as .npz is a collection of arrays it can't be properly displayed this way\n",
        "print()\n",
        "print(lending_data_savez['arr_0']) # this tells python to pull the array with index 0\n",
        "print()\n",
        "print(lending_data_savez['arr_1'])"
      ],
      "execution_count": 75,
      "outputs": [
        {
          "output_type": "stream",
          "name": "stdout",
          "text": [
            "<numpy.lib.npyio.NpzFile object at 0x7feafc548790>\n",
            "\n",
            "[['LoanID' 'StringID' 'Product' ... 'Location' 'Region' 'TotalPrice']\n",
            " ['1' 'id_1' 'Product B' ... 'Location 2' 'Region 2' '16600.0']\n",
            " ['2' 'id_2' 'Product B' ... 'Location 3' '' '16600.0']\n",
            " ...\n",
            " ['1041' 'id_1041' 'Product B' ... 'Location 23' 'Region 4' '16600.0']\n",
            " ['1042' 'id_1042' 'Product C' ... 'Location 52' 'Region 6' '15600.0']\n",
            " ['1043' 'id_1043' 'Product B' ... 'Location 142' 'Region 6' '16600.0']]\n",
            "\n",
            "[[      nan       nan       nan ...       nan       nan       nan]\n",
            " [1.000e+00       nan       nan ...       nan       nan 1.660e+04]\n",
            " [2.000e+00       nan       nan ...       nan       nan 1.660e+04]\n",
            " ...\n",
            " [4.130e+02       nan       nan ...       nan       nan 1.660e+04]\n",
            " [4.140e+02       nan       nan ...       nan       nan 1.560e+04]\n",
            " [4.150e+02       nan       nan ...       nan       nan 2.225e+04]]\n"
          ]
        }
      ]
    },
    {
      "cell_type": "code",
      "metadata": {
        "id": "ySVx2FPXUplY"
      },
      "source": [
        "np.savez('Lending-Company-Saving', savings=lending_co, totalprice=lending_co_tp)   # we can change the file name that will be saved in npz"
      ],
      "execution_count": 76,
      "outputs": []
    },
    {
      "cell_type": "code",
      "metadata": {
        "id": "SaEoX2V5W3cf"
      },
      "source": [
        "lending_data_savez=np.load('Lending-Company-Saving.npz')  # as we have changed our np.savez function by giving them alternate file names we have to load the npz file again\n",
        "# every time we create a npz we need to re-load it into python once again"
      ],
      "execution_count": 77,
      "outputs": []
    },
    {
      "cell_type": "code",
      "metadata": {
        "colab": {
          "base_uri": "https://localhost:8080/"
        },
        "id": "-pQb4ZV2XAbB",
        "outputId": "0090fb7a-eaa7-4868-9f5b-edce469bf0e7"
      },
      "source": [
        "lending_data_savez.files "
      ],
      "execution_count": 78,
      "outputs": [
        {
          "output_type": "execute_result",
          "data": {
            "text/plain": [
              "['savings', 'totalprice']"
            ]
          },
          "metadata": {},
          "execution_count": 78
        }
      ]
    },
    {
      "cell_type": "code",
      "metadata": {
        "colab": {
          "base_uri": "https://localhost:8080/"
        },
        "id": "awW0ZKt-XMMK",
        "outputId": "14589cfd-2595-461d-d22c-ab38b9bb7165"
      },
      "source": [
        "print(lending_data_savez['savings'])  # now we can print them using their name\n",
        "print('\\n', np.array_equal(lending_data_savez['savings'], lending_data_savez['totalprice']))"
      ],
      "execution_count": 79,
      "outputs": [
        {
          "output_type": "stream",
          "name": "stdout",
          "text": [
            "[['LoanID' 'StringID' 'Product' ... 'Location' 'Region' 'TotalPrice']\n",
            " ['1' 'id_1' 'Product B' ... 'Location 2' 'Region 2' '16600.0']\n",
            " ['2' 'id_2' 'Product B' ... 'Location 3' '' '16600.0']\n",
            " ...\n",
            " ['1041' 'id_1041' 'Product B' ... 'Location 23' 'Region 4' '16600.0']\n",
            " ['1042' 'id_1042' 'Product C' ... 'Location 52' 'Region 6' '15600.0']\n",
            " ['1043' 'id_1043' 'Product B' ... 'Location 142' 'Region 6' '16600.0']]\n",
            "\n",
            " False\n"
          ]
        }
      ]
    },
    {
      "cell_type": "code",
      "metadata": {
        "id": "XmTrs9T4YQX6"
      },
      "source": [
        "# storing data into txt files \n",
        "# np.savetxt()\n",
        "lending_cotxt=np.genfromtxt('Lending-Company-Saving.csv', delimiter=',', dtype='str')\n",
        "\n",
        "np.savetxt('Lending-Company-Saving.txt', lending_cotxt, fmt='%s', delimiter=',')    # unlike in save() and savez() functions while using np.savetxt() \n",
        "                                                                        #we need to give the format in which the file has to be save here we gave it as .txt we can also give .csv\n",
        "                                          # fmt is the format of the values in which we want to save them %s means string format, c : character and d or i : signed decimal integer\n",
        "                               # delimiter is the delimiter that we want in our .txt file saved "
      ],
      "execution_count": 80,
      "outputs": []
    },
    {
      "cell_type": "code",
      "metadata": {
        "colab": {
          "base_uri": "https://localhost:8080/"
        },
        "id": "KXF8YiK_ZB23",
        "outputId": "5e051628-2182-4360-d8ef-87cd6f0847fa"
      },
      "source": [
        "lending_data_savetxt= np.genfromtxt('Lending-Company-Saving.txt', delimiter=',', dtype='str')    # unlike save and savez savetxt() files need to be imported\n",
        "# they cannot be loaded thats why we use genfromtxt\n",
        "\n",
        "print(lending_data_savetxt)\n",
        "\n",
        "lending_data_save=np.load('Lending-Company-Saving.npy')     # loading the .npy file to check if the saved file using savetxt is same as the previously saved file using save() \n",
        "\n",
        "print('\\n', np.array_equal(lending_data_save, lending_data_savetxt)) #\n",
        "# save function saved files can only be opend in numpy thats why we use savetxt function in some cases so that we can export that data to amnt text editors\n",
        "# but like as always files saved in npy are much faster to load and takes less space"
      ],
      "execution_count": 82,
      "outputs": [
        {
          "output_type": "stream",
          "name": "stdout",
          "text": [
            "[['LoanID' 'StringID' 'Product' ... 'Location' 'Region' 'TotalPrice']\n",
            " ['1' 'id_1' 'Product B' ... 'Location 2' 'Region 2' '16600.0']\n",
            " ['2' 'id_2' 'Product B' ... 'Location 3' '' '16600.0']\n",
            " ...\n",
            " ['1041' 'id_1041' 'Product B' ... 'Location 23' 'Region 4' '16600.0']\n",
            " ['1042' 'id_1042' 'Product C' ... 'Location 52' 'Region 6' '15600.0']\n",
            " ['1043' 'id_1043' 'Product B' ... 'Location 142' 'Region 6' '16600.0']]\n",
            "\n",
            " True\n"
          ]
        }
      ]
    }
  ]
}